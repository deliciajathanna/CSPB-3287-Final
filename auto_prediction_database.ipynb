{
 "cells": [
  {
   "cell_type": "markdown",
   "id": "31ba8ca5-6406-474c-9df4-efa846d64b09",
   "metadata": {},
   "source": [
    "# Auto Loan Prediction Dataset - Delicia Jathanna\n",
    "\n",
    "## CSCI 3287 "
   ]
  },
  {
   "cell_type": "code",
   "execution_count": 26,
   "id": "53f59029-04a0-454c-8abe-a63ad9ac03dd",
   "metadata": {},
   "outputs": [],
   "source": [
    "import sqlite3\n",
    "import zipfile\n",
    "import pandas as pd"
   ]
  },
  {
   "cell_type": "markdown",
   "id": "da565d3a-23e6-42f5-9f53-a53bafba8334",
   "metadata": {},
   "source": [
    "## Connecting to my database & Creating the tables"
   ]
  },
  {
   "cell_type": "code",
   "execution_count": 29,
   "id": "0a68d68c-0c5c-4d2e-a09f-23c4f159d7c2",
   "metadata": {},
   "outputs": [],
   "source": [
    "df_auto = pd.read_csv('CSPB-3287-Final/auto_dataset.zip')"
   ]
  },
  {
   "cell_type": "code",
   "execution_count": 30,
   "id": "dc63db0a-81c9-429d-b078-c74e773f5d01",
   "metadata": {},
   "outputs": [],
   "source": [
    "conn = sqlite3.connect(\"autoloansdb.db\")\n",
    "cur = conn.cursor()"
   ]
  },
  {
   "cell_type": "code",
   "execution_count": 378,
   "id": "49241d9c-e2ae-474d-b370-05330ff07b87",
   "metadata": {},
   "outputs": [],
   "source": [
    "drop_table_jobs = conn.execute('DROP TABLE IF EXISTS jobs;')"
   ]
  },
  {
   "cell_type": "code",
   "execution_count": 379,
   "id": "cb1f2f02-668a-4d3e-b0eb-3378a120ddde",
   "metadata": {},
   "outputs": [],
   "source": [
    "create_jobs_table = conn.execute('''\n",
    "CREATE TABLE IF NOT EXISTS jobs\n",
    "\t(\n",
    "\t  occupation VARCHAR(50) NOT NULL, --Occupation of the application\n",
    "      salary INT NOT NULL --Monthly income of the applicant\n",
    "\t);\n",
    "''')"
   ]
  },
  {
   "cell_type": "code",
   "execution_count": 375,
   "id": "c1738358-66a0-4a3f-b215-ce18240583a9",
   "metadata": {},
   "outputs": [],
   "source": [
    "drop_table_credit = conn.execute('DROP TABLE IF EXISTS credit;')"
   ]
  },
  {
   "cell_type": "code",
   "execution_count": 376,
   "id": "b268810c-636c-4cd4-b7a4-7b6c67be2d59",
   "metadata": {},
   "outputs": [],
   "source": [
    "create_credit_table = conn.execute('''\n",
    "CREATE TABLE IF NOT EXISTS credit\n",
    "\t(\n",
    "\t  occupation VARCHAR(50), --Occupation of the application (foreign key)\n",
    "      credit_score INTEGER NOT NULL, --Credit Score of the applicant\n",
    "      FOREIGN KEY (occupation) REFERENCES jobs (occupation)\n",
    "\t);\n",
    "''')"
   ]
  },
  {
   "cell_type": "code",
   "execution_count": 400,
   "id": "7e619619-e8c5-4da5-be81-99e51ea28bf0",
   "metadata": {},
   "outputs": [],
   "source": [
    "drop_table_loan = conn.execute('DROP TABLE IF EXISTS loan;')"
   ]
  },
  {
   "cell_type": "code",
   "execution_count": 401,
   "id": "277d83bd-c3ca-4526-9a63-cbe3c77fe010",
   "metadata": {},
   "outputs": [],
   "source": [
    "create_loan_table = conn.execute('''\n",
    "CREATE TABLE IF NOT EXISTS loan\n",
    "\t(\n",
    "\t  loan_id VARCHAR(50) PRIMARY KEY, --ID of the loan (primary key)\n",
    "      occupation VARCHAR(50), --Occupation of the applicant (foreign key)\n",
    "      credit_score INTEGER, --Credit Score of the applicant (foreign key)\n",
    "      FOREIGN KEY (occupation) REFERENCES jobs (occupation),\n",
    "      FOREIGN KEY (credit_score) REFERENCES credit (credit_score)\n",
    "\t);\n",
    "''')"
   ]
  },
  {
   "cell_type": "code",
   "execution_count": 296,
   "id": "4d4f0682-43c8-4fee-bc45-4049c1ede07b",
   "metadata": {},
   "outputs": [],
   "source": [
    "drop_table_loan_status = conn.execute('DROP TABLE IF EXISTS loan_status;')"
   ]
  },
  {
   "cell_type": "code",
   "execution_count": 297,
   "id": "ca51cbb7-4abb-4ad7-84a7-7895829d72dd",
   "metadata": {},
   "outputs": [],
   "source": [
    "create_loan_status_table = conn.execute('''\n",
    "CREATE TABLE IF NOT EXISTS loan_status\n",
    "\t(\n",
    "\t  loan_id VARCHAR(50), --ID of the loan (foreign key)\n",
    "      loan_status VARCHAR(50) CHECK (loan_status = 'Y' OR loan_status = 'N'), --Status of the loan\n",
    "      credit_score INTEGER, --Credit Score of the applicant (foreign key)\n",
    "      FOREIGN KEY (loan_id) REFERENCES loan (loan_id)\n",
    "      FOREIGN KEY (credit_score) REFERENCES credit (credit_score)\n",
    "\t);\n",
    "''')"
   ]
  },
  {
   "cell_type": "code",
   "execution_count": 298,
   "id": "baf06fca-a607-4825-b7b2-347824a32d71",
   "metadata": {},
   "outputs": [],
   "source": [
    "drop_table_loan_term = conn.execute('DROP TABLE IF EXISTS loan_term;')"
   ]
  },
  {
   "cell_type": "code",
   "execution_count": 299,
   "id": "a49b714f-c822-4e85-9571-16887a2701c8",
   "metadata": {},
   "outputs": [],
   "source": [
    "create_loan_term_table = conn.execute('''\n",
    "CREATE TABLE IF NOT EXISTS loan_term\n",
    "\t(\n",
    "\t  loan_id VARCHAR(50), --ID of the loan (foreign key)\n",
    "      loan_term INTEGER, --Term of the loan in months \n",
    "      FOREIGN KEY (loan_id) REFERENCES loan_status (loan_id) ON INSERT CASCADE\n",
    "\t);\n",
    "''')"
   ]
  },
  {
   "cell_type": "code",
   "execution_count": 300,
   "id": "9d424732-eed6-4041-9d60-1375d30089e6",
   "metadata": {},
   "outputs": [],
   "source": [
    "### Filling the tables with the data from the dataset"
   ]
  },
  {
   "cell_type": "code",
   "execution_count": 394,
   "id": "c7d7942c-3bef-46c7-9057-30d9a964e37a",
   "metadata": {},
   "outputs": [],
   "source": [
    "for row in df_auto.to_dict('records'):\n",
    "    cmd = ('''INSERT INTO jobs(occupation, salary)\\\n",
    "    VALUES ( :Occupation, :Monthly_Income) ''' )\n",
    "    conn.execute(cmd, row)"
   ]
  },
  {
   "cell_type": "code",
   "execution_count": 377,
   "id": "8d1c1394-1c2f-47dd-93fa-0c4feec01f05",
   "metadata": {},
   "outputs": [],
   "source": [
    "for row in df_auto.to_dict('records'):\n",
    "    cmd = ('''INSERT INTO credit(credit_score, occupation)\\\n",
    "    VALUES ( :Credit_Score, :Occupation) ''' )\n",
    "    conn.execute(cmd, row)"
   ]
  },
  {
   "cell_type": "code",
   "execution_count": 402,
   "id": "1f14c509-1420-4027-91e3-2d3299cfdf15",
   "metadata": {},
   "outputs": [],
   "source": [
    "for row in df_auto.to_dict('records'):\n",
    "    cmd = ('''INSERT INTO loan(loan_id, occupation, credit_score)\\\n",
    "    VALUES ( :Loan_ID, :Occupation, :Credit_Score) ''' )\n",
    "    conn.execute(cmd, row)"
   ]
  },
  {
   "cell_type": "code",
   "execution_count": 397,
   "id": "01a9e70d-0f7c-45f7-9026-0bb5bf10c569",
   "metadata": {},
   "outputs": [],
   "source": [
    "for row in df_auto.to_dict('records'):\n",
    "    cmd = ('''INSERT INTO loan_status(loan_id, loan_status, credit_score)\\\n",
    "    VALUES ( :Loan_ID, :Loan_Status, :Credit_Score) ''' )\n",
    "    conn.execute(cmd, row)"
   ]
  },
  {
   "cell_type": "code",
   "execution_count": 305,
   "id": "31789b7f-754b-4d25-9e4a-08b4ebf4cb31",
   "metadata": {},
   "outputs": [],
   "source": [
    "for row in df_auto.to_dict('records'):\n",
    "    cmd = ('''INSERT INTO loan_term(loan_id, loan_term)\\\n",
    "    VALUES ( :Loan_ID, :Loan_Amount_Term) ''' )\n",
    "    conn.execute(cmd, row)"
   ]
  },
  {
   "cell_type": "markdown",
   "id": "fe1a74fb-95de-409f-940e-289c220c28cc",
   "metadata": {},
   "source": [
    "### Display the initial data in the tables"
   ]
  },
  {
   "cell_type": "code",
   "execution_count": 395,
   "id": "b0aae63e-5c52-45cd-a093-bd0d78e9dd20",
   "metadata": {},
   "outputs": [
    {
     "data": {
      "text/plain": [
       "[('Teacher', '$4,000.00 '),\n",
       " ('Engineer', '$6,000.00 '),\n",
       " ('Nurse', '$25,000.00 '),\n",
       " ('Doctor', '$80,000.00 '),\n",
       " ('Businessman', '$10,000.00 '),\n",
       " ('Engineer', '$5,000.00 '),\n",
       " ('Teacher', '$3,500.00 '),\n",
       " ('Nurse', '$2,000.00 '),\n",
       " ('Businessman', '$12,000.00 '),\n",
       " ('Doctor', '$9,000.00 ')]"
      ]
     },
     "execution_count": 395,
     "metadata": {},
     "output_type": "execute_result"
    }
   ],
   "source": [
    "res = cur.execute(\"SELECT * FROM jobs LIMIT 10\")\n",
    "res.fetchall()"
   ]
  },
  {
   "cell_type": "code",
   "execution_count": 382,
   "id": "21a98b44-1958-4624-b7da-572f2edf3936",
   "metadata": {},
   "outputs": [
    {
     "data": {
      "text/plain": [
       "[('Teacher', 750),\n",
       " ('Engineer', 800),\n",
       " ('Nurse', 650),\n",
       " ('Doctor', 900),\n",
       " ('Businessman', 700),\n",
       " ('Engineer', 750),\n",
       " ('Teacher', 650),\n",
       " ('Nurse', 600),\n",
       " ('Businessman', 850),\n",
       " ('Doctor', 800)]"
      ]
     },
     "execution_count": 382,
     "metadata": {},
     "output_type": "execute_result"
    }
   ],
   "source": [
    "res = cur.execute(\"SELECT * FROM credit LIMIT 10\")\n",
    "res.fetchall()"
   ]
  },
  {
   "cell_type": "code",
   "execution_count": 403,
   "id": "396b60a4-188b-4d33-99ca-817a7111aa84",
   "metadata": {},
   "outputs": [
    {
     "data": {
      "text/plain": [
       "[('LP001002', 'Teacher', 750),\n",
       " ('LP001003', 'Engineer', 800),\n",
       " ('LP001005', 'Nurse', 650),\n",
       " ('LP001006', 'Doctor', 900),\n",
       " ('LP001008', 'Businessman', 700),\n",
       " ('LP001011', 'Engineer', 750),\n",
       " ('LP001013', 'Teacher', 650),\n",
       " ('LP001014', 'Nurse', 600),\n",
       " ('LP001018', 'Businessman', 850),\n",
       " ('LP001020', 'Doctor', 800)]"
      ]
     },
     "execution_count": 403,
     "metadata": {},
     "output_type": "execute_result"
    }
   ],
   "source": [
    "res = cur.execute(\"SELECT * FROM loan LIMIT 10\")\n",
    "res.fetchall()"
   ]
  },
  {
   "cell_type": "code",
   "execution_count": 309,
   "id": "3d9f94eb-426e-4b27-9a99-3192d649695c",
   "metadata": {},
   "outputs": [
    {
     "data": {
      "text/plain": [
       "[('LP001002', 'Y', 750),\n",
       " ('LP001003', 'Y', 800),\n",
       " ('LP001005', 'Y', 650),\n",
       " ('LP001006', 'Y', 900),\n",
       " ('LP001008', 'Y', 700),\n",
       " ('LP001011', 'Y', 750),\n",
       " ('LP001013', 'N', 650),\n",
       " ('LP001014', 'N', 600),\n",
       " ('LP001018', 'Y', 850),\n",
       " ('LP001020', 'N', 800)]"
      ]
     },
     "execution_count": 309,
     "metadata": {},
     "output_type": "execute_result"
    }
   ],
   "source": [
    "res = cur.execute(\"SELECT * FROM loan_status LIMIT 10\")\n",
    "res.fetchall()"
   ]
  },
  {
   "cell_type": "code",
   "execution_count": 310,
   "id": "e955e7f9-da37-4ccd-93ba-2ef338a9daad",
   "metadata": {},
   "outputs": [
    {
     "data": {
      "text/plain": [
       "[('LP001002', 36),\n",
       " ('LP001003', 36),\n",
       " ('LP001005', 36),\n",
       " ('LP001006', 36),\n",
       " ('LP001008', 36),\n",
       " ('LP001011', 36),\n",
       " ('LP001013', 0),\n",
       " ('LP001014', 0),\n",
       " ('LP001018', 36),\n",
       " ('LP001020', 0)]"
      ]
     },
     "execution_count": 310,
     "metadata": {},
     "output_type": "execute_result"
    }
   ],
   "source": [
    "res = cur.execute(\"SELECT * FROM loan_term LIMIT 10\")\n",
    "res.fetchall()"
   ]
  },
  {
   "cell_type": "markdown",
   "id": "45821784-7ca6-4099-9c72-cad07840c36c",
   "metadata": {},
   "source": [
    "# Triggers and Indexes\n",
    "We will now Add some triggers and indexes to the data so that the queries run smoother and we can ensure that when a foreign key gets deleted, it gets deleted in every table."
   ]
  },
  {
   "cell_type": "code",
   "execution_count": 313,
   "id": "26af501f-67b6-4704-8143-499c073b667a",
   "metadata": {},
   "outputs": [],
   "source": [
    "drop_fk_occupation_trigger = conn.execute(\"DROP TRIGGER IF EXISTS fk_occupation_delete\")"
   ]
  },
  {
   "cell_type": "code",
   "execution_count": 314,
   "id": "1eb17d5d-1cd7-4d5e-9edd-dd001ea38412",
   "metadata": {},
   "outputs": [],
   "source": [
    "fk_occupation_trigger = conn.execute('''\n",
    "    CREATE TRIGGER fk_occupation_delete\n",
    "    AFTER DELETE ON jobs \n",
    "    FOR EACH ROW\n",
    "    BEGIN\n",
    "        DELETE FROM credit\n",
    "        WHERE occupation = old.occupation;\n",
    "        DELETE FROM loan\n",
    "        WHERE occupation = old.occupation;\n",
    "    END;\n",
    "    ''')"
   ]
  },
  {
   "cell_type": "code",
   "execution_count": 315,
   "id": "e0f22b9b-51a2-430c-b8f3-cf10c1bbb025",
   "metadata": {},
   "outputs": [],
   "source": [
    "drop_fk_loanid_trigger = conn.execute(\"DROP TRIGGER IF EXISTS fk_loanid_delete\")"
   ]
  },
  {
   "cell_type": "code",
   "execution_count": 316,
   "id": "da53c0e6-b8d7-444d-9e64-b8bc6bec2a43",
   "metadata": {},
   "outputs": [],
   "source": [
    "fk_loanid_trigger = conn.execute('''\n",
    "    CREATE TRIGGER fk_loanid_delete\n",
    "    AFTER DELETE ON loan \n",
    "    FOR EACH ROW\n",
    "    BEGIN\n",
    "        DELETE FROM loan_term\n",
    "        WHERE loan_id = old.loan_id;\n",
    "        DELETE FROM loan_status\n",
    "        WHERE loan_id = old.loan_id;\n",
    "    END;\n",
    "    ''')"
   ]
  },
  {
   "cell_type": "code",
   "execution_count": 317,
   "id": "45800602-d324-4272-8886-83355c1a2aba",
   "metadata": {},
   "outputs": [],
   "source": [
    "drop_fk_score_trigger = conn.execute(\"DROP TRIGGER IF EXISTS fk_score_delete\")"
   ]
  },
  {
   "cell_type": "code",
   "execution_count": 318,
   "id": "ec131951-6fa3-45fe-8690-87eb8b7b431d",
   "metadata": {},
   "outputs": [],
   "source": [
    "fk_score_trigger = conn.execute('''\n",
    "    CREATE TRIGGER fk_score_delete\n",
    "    AFTER DELETE ON credit \n",
    "    FOR EACH ROW\n",
    "    BEGIN\n",
    "        DELETE FROM loan\n",
    "        WHERE credit_score = old.credit_score;\n",
    "        DELETE FROM loan_status\n",
    "        WHERE credit_score = old.credit_score;\n",
    "    END;\n",
    "    ''')"
   ]
  },
  {
   "cell_type": "markdown",
   "id": "5e311103-9a6f-454b-8bc4-60f6c4c0eecd",
   "metadata": {},
   "source": [
    "### Testing the occupation foreign key trigger"
   ]
  },
  {
   "cell_type": "code",
   "execution_count": 319,
   "id": "e7dabcbf-92ca-4b74-b9ac-b8b4747bc6dc",
   "metadata": {},
   "outputs": [],
   "source": [
    "res = cur.execute(\"DELETE FROM jobs WHERE occupation = 'Teacher'\")"
   ]
  },
  {
   "cell_type": "code",
   "execution_count": 320,
   "id": "fda5af58-e7e0-4093-a3d4-adeda9cf8596",
   "metadata": {},
   "outputs": [
    {
     "data": {
      "text/plain": [
       "[('Engineer', '$6,000.00 '),\n",
       " ('Nurse', '$25,000.00 '),\n",
       " ('Doctor', '$80,000.00 '),\n",
       " ('Businessman', '$10,000.00 '),\n",
       " ('Engineer', '$5,000.00 '),\n",
       " ('Nurse', '$2,000.00 '),\n",
       " ('Businessman', '$12,000.00 '),\n",
       " ('Doctor', '$9,000.00 '),\n",
       " ('Engineer', '$6,000.00 '),\n",
       " ('Salesperson', '$3,000.00 ')]"
      ]
     },
     "execution_count": 320,
     "metadata": {},
     "output_type": "execute_result"
    }
   ],
   "source": [
    "res = cur.execute(\"SELECT * FROM jobs LIMIT 10\")\n",
    "res.fetchall()"
   ]
  },
  {
   "cell_type": "code",
   "execution_count": 374,
   "id": "c2e4c6f7-a82a-4253-a849-58cca9441fa6",
   "metadata": {},
   "outputs": [
    {
     "data": {
      "text/plain": [
       "[('Businessman', 700),\n",
       " ('Engineer', 700),\n",
       " ('Salesperson', 600),\n",
       " ('Electrician', 550),\n",
       " ('Marketing Exec', 690),\n",
       " ('Chef', 620),\n",
       " ('Police Officer', 680),\n",
       " ('Graphic Design', 670),\n",
       " ('Writer', 500),\n",
       " ('Musician', 550)]"
      ]
     },
     "execution_count": 374,
     "metadata": {},
     "output_type": "execute_result"
    }
   ],
   "source": [
    "res = cur.execute(\"SELECT * FROM credit LIMIT 10\")\n",
    "res.fetchall()"
   ]
  },
  {
   "cell_type": "code",
   "execution_count": 322,
   "id": "dead9c49-6f55-4bd2-9f0a-07414b0fc476",
   "metadata": {},
   "outputs": [
    {
     "data": {
      "text/plain": [
       "[('LP001003', 'Engineer', 800),\n",
       " ('LP001006', 'Doctor', 900),\n",
       " ('LP001008', 'Businessman', 700),\n",
       " ('LP001014', 'Nurse', 600),\n",
       " ('LP001018', 'Businessman', 850),\n",
       " ('LP001020', 'Doctor', 800),\n",
       " ('LP001024', 'Engineer', 700),\n",
       " ('LP001027', 'Salesperson', 600),\n",
       " ('LP001029', 'Entrepreneur', 800),\n",
       " ('LP001030', 'Lawyer', 820)]"
      ]
     },
     "execution_count": 322,
     "metadata": {},
     "output_type": "execute_result"
    }
   ],
   "source": [
    "res = cur.execute(\"SELECT * FROM loan LIMIT 10\")\n",
    "res.fetchall()"
   ]
  },
  {
   "cell_type": "markdown",
   "id": "65e57211-8056-4e32-9718-02a88d80c3a4",
   "metadata": {},
   "source": [
    "### Testing the loan_id trigger"
   ]
  },
  {
   "cell_type": "code",
   "execution_count": 323,
   "id": "ec5316d8-2cbe-4988-b042-5cac5dbbaf07",
   "metadata": {},
   "outputs": [],
   "source": [
    "res = cur.execute(\"DELETE FROM loan WHERE loan_id = 'LP001005'\")"
   ]
  },
  {
   "cell_type": "code",
   "execution_count": 324,
   "id": "18bcb8ac-de5a-4d5f-aaf2-154cdfbed0a1",
   "metadata": {},
   "outputs": [
    {
     "data": {
      "text/plain": [
       "[('LP001003', 'Engineer', 800),\n",
       " ('LP001006', 'Doctor', 900),\n",
       " ('LP001008', 'Businessman', 700),\n",
       " ('LP001014', 'Nurse', 600),\n",
       " ('LP001018', 'Businessman', 850),\n",
       " ('LP001020', 'Doctor', 800),\n",
       " ('LP001024', 'Engineer', 700),\n",
       " ('LP001027', 'Salesperson', 600),\n",
       " ('LP001029', 'Entrepreneur', 800),\n",
       " ('LP001030', 'Lawyer', 820)]"
      ]
     },
     "execution_count": 324,
     "metadata": {},
     "output_type": "execute_result"
    }
   ],
   "source": [
    "res = cur.execute(\"SELECT * FROM loan LIMIT 10\")\n",
    "res.fetchall()"
   ]
  },
  {
   "cell_type": "code",
   "execution_count": 325,
   "id": "52236da4-347f-4d0c-938c-910398093964",
   "metadata": {},
   "outputs": [
    {
     "data": {
      "text/plain": [
       "[('LP001003', 36),\n",
       " ('LP001006', 36),\n",
       " ('LP001008', 36),\n",
       " ('LP001014', 0),\n",
       " ('LP001018', 36),\n",
       " ('LP001020', 0),\n",
       " ('LP001024', 36),\n",
       " ('LP001027', 0),\n",
       " ('LP001029', 36),\n",
       " ('LP001030', 12)]"
      ]
     },
     "execution_count": 325,
     "metadata": {},
     "output_type": "execute_result"
    }
   ],
   "source": [
    "res = cur.execute(\"SELECT * FROM loan_term LIMIT 10\")\n",
    "res.fetchall()"
   ]
  },
  {
   "cell_type": "code",
   "execution_count": 326,
   "id": "734b532c-f4be-4a3f-8e1b-ad41862c0f19",
   "metadata": {},
   "outputs": [
    {
     "data": {
      "text/plain": [
       "[('LP001003', 'Y', 800),\n",
       " ('LP001006', 'Y', 900),\n",
       " ('LP001008', 'Y', 700),\n",
       " ('LP001014', 'N', 600),\n",
       " ('LP001018', 'Y', 850),\n",
       " ('LP001020', 'N', 800),\n",
       " ('LP001024', 'Y', 700),\n",
       " ('LP001027', 'N', 600),\n",
       " ('LP001029', 'Y', 800),\n",
       " ('LP001030', 'Y', 820)]"
      ]
     },
     "execution_count": 326,
     "metadata": {},
     "output_type": "execute_result"
    }
   ],
   "source": [
    "res = cur.execute(\"SELECT * FROM loan_status LIMIT 10\")\n",
    "res.fetchall()"
   ]
  },
  {
   "cell_type": "markdown",
   "id": "859c5abf-2b01-4d9e-a03a-db62e1ea5f37",
   "metadata": {},
   "source": [
    "### Testing the credit_score trigger"
   ]
  },
  {
   "cell_type": "code",
   "execution_count": 327,
   "id": "6bd15f33-6eef-4921-b4c3-d937520e77bc",
   "metadata": {},
   "outputs": [],
   "source": [
    "res = cur.execute(\"DELETE FROM credit WHERE credit_score > 700\")"
   ]
  },
  {
   "cell_type": "code",
   "execution_count": 328,
   "id": "4454c5a1-6435-4ca1-bfdf-0b87fbbc7d2e",
   "metadata": {},
   "outputs": [
    {
     "data": {
      "text/plain": [
       "[('Nurse', 650),\n",
       " ('Businessman', 700),\n",
       " ('Nurse', 600),\n",
       " ('Engineer', 700),\n",
       " ('Salesperson', 600),\n",
       " ('Nurse', 650),\n",
       " ('Electrician', 550),\n",
       " ('Marketing Exec', 690),\n",
       " ('Chef', 620),\n",
       " ('Police Officer', 680)]"
      ]
     },
     "execution_count": 328,
     "metadata": {},
     "output_type": "execute_result"
    }
   ],
   "source": [
    "res = cur.execute(\"SELECT * FROM credit LIMIT 10\")\n",
    "res.fetchall()"
   ]
  },
  {
   "cell_type": "code",
   "execution_count": 329,
   "id": "9081c520-45ea-4fe9-8a59-b047ca1cb66e",
   "metadata": {},
   "outputs": [
    {
     "data": {
      "text/plain": [
       "[('LP001008', 'Businessman', 700),\n",
       " ('LP001014', 'Nurse', 600),\n",
       " ('LP001024', 'Engineer', 700),\n",
       " ('LP001027', 'Salesperson', 600),\n",
       " ('LP001041', 'Electrician', 550),\n",
       " ('LP001046', 'Marketing Exec', 690),\n",
       " ('LP001047', 'Chef', 620),\n",
       " ('LP001073', 'Writer', 500),\n",
       " ('LP001086', 'Musician', 550),\n",
       " ('LP001098', 'Salesperson', 600)]"
      ]
     },
     "execution_count": 329,
     "metadata": {},
     "output_type": "execute_result"
    }
   ],
   "source": [
    "res = cur.execute(\"SELECT * FROM loan LIMIT 10\")\n",
    "res.fetchall()"
   ]
  },
  {
   "cell_type": "code",
   "execution_count": 330,
   "id": "557b8c1b-15f6-4671-8060-822eea6be927",
   "metadata": {},
   "outputs": [
    {
     "data": {
      "text/plain": [
       "[('LP001008', 'Y', 700),\n",
       " ('LP001014', 'N', 600),\n",
       " ('LP001024', 'Y', 700),\n",
       " ('LP001027', 'N', 600),\n",
       " ('LP001041', 'N', 550),\n",
       " ('LP001046', 'N', 690),\n",
       " ('LP001047', 'N', 620),\n",
       " ('LP001073', 'N', 500),\n",
       " ('LP001086', 'N', 550),\n",
       " ('LP001098', 'Y', 600)]"
      ]
     },
     "execution_count": 330,
     "metadata": {},
     "output_type": "execute_result"
    }
   ],
   "source": [
    "res = cur.execute(\"SELECT * FROM loan_status LIMIT 10\")\n",
    "res.fetchall()"
   ]
  },
  {
   "cell_type": "markdown",
   "id": "59f881e1-c05c-480d-92f6-ae692a65c69a",
   "metadata": {},
   "source": [
    "Now that we've ensured that when a foreign key gets deleted, it deletes in every table, lets add a trigger to the loan status table that a loan cannot be approved if the credit score is below 700. "
   ]
  },
  {
   "cell_type": "code",
   "execution_count": 419,
   "id": "2b5df258-0f36-48b6-82bd-9bba5ee17144",
   "metadata": {},
   "outputs": [],
   "source": [
    "drop_loan_status_trigger = conn.execute(\"DROP TRIGGER IF EXISTS loan_status_trigger\")"
   ]
  },
  {
   "cell_type": "code",
   "execution_count": 420,
   "id": "f687eabe-4fbb-4d25-bbf5-1c45324a6ef0",
   "metadata": {},
   "outputs": [],
   "source": [
    "loan_status_trigger = conn.execute('''\n",
    "    CREATE TRIGGER loan_status_trigger\n",
    "    AFTER INSERT ON loan_status \n",
    "    FOR EACH ROW\n",
    "    BEGIN\n",
    "        SELECT CASE \n",
    "            WHEN ((SELECT loan_status FROM loan_status WHERE loan_status.loan_id = NEW.loan_id AND loan_status.credit_score < 700) = 'Y') \n",
    "            THEN RAISE(ABORT, 'Credit Score must be above 700 to be approved for a loan') \n",
    "        END;\n",
    "    END;\n",
    "    ''')"
   ]
  },
  {
   "cell_type": "code",
   "execution_count": 421,
   "id": "16e81c94-d6e3-4c30-aa49-9e7b177a5545",
   "metadata": {},
   "outputs": [
    {
     "ename": "IntegrityError",
     "evalue": "Credit Score must be above 700 to be approved for a loan",
     "output_type": "error",
     "traceback": [
      "\u001b[0;31m---------------------------------------------------------------------------\u001b[0m",
      "\u001b[0;31mIntegrityError\u001b[0m                            Traceback (most recent call last)",
      "Cell \u001b[0;32mIn[421], line 1\u001b[0m\n\u001b[0;32m----> 1\u001b[0m res \u001b[38;5;241m=\u001b[39m \u001b[43mconn\u001b[49m\u001b[38;5;241;43m.\u001b[39;49m\u001b[43mexecute\u001b[49m\u001b[43m(\u001b[49m\u001b[38;5;124;43m\"\u001b[39;49m\u001b[38;5;124;43mINSERT INTO loan_status(loan_id, credit_score, loan_status) VALUES(\u001b[39;49m\u001b[38;5;124;43m'\u001b[39;49m\u001b[38;5;124;43mLP002000\u001b[39;49m\u001b[38;5;124;43m'\u001b[39;49m\u001b[38;5;124;43m, 650, \u001b[39;49m\u001b[38;5;124;43m'\u001b[39;49m\u001b[38;5;124;43mY\u001b[39;49m\u001b[38;5;124;43m'\u001b[39;49m\u001b[38;5;124;43m)\u001b[39;49m\u001b[38;5;124;43m\"\u001b[39;49m\u001b[43m)\u001b[49m\n",
      "\u001b[0;31mIntegrityError\u001b[0m: Credit Score must be above 700 to be approved for a loan"
     ]
    }
   ],
   "source": [
    "res = conn.execute(\"INSERT INTO loan_status(loan_id, credit_score, loan_status) VALUES('LP002000', 650, 'Y')\")"
   ]
  },
  {
   "cell_type": "code",
   "execution_count": null,
   "id": "4c1ec6b5-4e4e-41b4-abf6-4d7ca26dc9a4",
   "metadata": {},
   "outputs": [],
   "source": []
  },
  {
   "cell_type": "code",
   "execution_count": null,
   "id": "2776809a-0a67-4d64-b019-b6e0d26cf921",
   "metadata": {},
   "outputs": [],
   "source": [
    "# Queries to join the tables to see what credit score, occupation, and monthly income\n",
    "# get approved for loans versus the ones that don't"
   ]
  },
  {
   "cell_type": "code",
   "execution_count": 238,
   "id": "7cfa0bdd-8647-48ca-9340-1111fd5820a7",
   "metadata": {},
   "outputs": [
    {
     "data": {
      "text/plain": [
       "[(720, 'Account Executive', '$6,000.00 '),\n",
       " (720, 'Account Manager', '$5,800.00 '),\n",
       " (720, 'Accountant', '$4,500.00 '),\n",
       " (720, 'Accountant', '$5,000.00 '),\n",
       " (720, 'Accountant', '$5,000.00 '),\n",
       " (720, 'Accountant', '$5,500.00 '),\n",
       " (720, 'Accountant', '$6,500.00 '),\n",
       " (720, 'Accountant', '$6,500.00 '),\n",
       " (750, 'Accountant', '$4,500.00 '),\n",
       " (750, 'Accountant', '$5,000.00 ')]"
      ]
     },
     "execution_count": 238,
     "metadata": {},
     "output_type": "execute_result"
    }
   ],
   "source": [
    "res = cur.execute(\"SELECT credit_score, jobs.occupation AS occupation, jobs.salary FROM loan JOIN jobs on jobs.occupation = loan.occupation ORDER BY occupation LIMIT 10;\")\n",
    "res.fetchall()"
   ]
  },
  {
   "cell_type": "code",
   "execution_count": 26,
   "id": "823e7b57-4e3c-4a12-b2c0-602923f35325",
   "metadata": {},
   "outputs": [],
   "source": [
    "cur.close()"
   ]
  },
  {
   "cell_type": "code",
   "execution_count": null,
   "id": "74f332bb-3630-4b44-8427-4dcf1cef8d29",
   "metadata": {},
   "outputs": [],
   "source": []
  }
 ],
 "metadata": {
  "kernelspec": {
   "display_name": "Python 3 (ipykernel)",
   "language": "python",
   "name": "python3"
  },
  "language_info": {
   "codemirror_mode": {
    "name": "ipython",
    "version": 3
   },
   "file_extension": ".py",
   "mimetype": "text/x-python",
   "name": "python",
   "nbconvert_exporter": "python",
   "pygments_lexer": "ipython3",
   "version": "3.10.8"
  }
 },
 "nbformat": 4,
 "nbformat_minor": 5
}
