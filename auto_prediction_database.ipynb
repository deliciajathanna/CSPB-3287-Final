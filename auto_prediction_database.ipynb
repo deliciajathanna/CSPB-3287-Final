{
 "cells": [
  {
   "cell_type": "markdown",
   "id": "31ba8ca5-6406-474c-9df4-efa846d64b09",
   "metadata": {},
   "source": [
    "# Auto Loan Prediction Dataset - Delicia Jathanna\n",
    "\n",
    "## CSCI 3287 "
   ]
  },
  {
   "cell_type": "code",
   "execution_count": 2,
   "id": "53f59029-04a0-454c-8abe-a63ad9ac03dd",
   "metadata": {},
   "outputs": [],
   "source": [
    "import sqlite3\n",
    "import zipfile\n",
    "import pandas as pd"
   ]
  },
  {
   "cell_type": "markdown",
   "id": "da565d3a-23e6-42f5-9f53-a53bafba8334",
   "metadata": {},
   "source": [
    "## Connecting to my database & Creating the tables"
   ]
  },
  {
   "cell_type": "code",
   "execution_count": 3,
   "id": "0a68d68c-0c5c-4d2e-a09f-23c4f159d7c2",
   "metadata": {},
   "outputs": [],
   "source": [
    "df_auto = pd.read_csv('auto_dataset.zip')"
   ]
  },
  {
   "cell_type": "code",
   "execution_count": 4,
   "id": "dc63db0a-81c9-429d-b078-c74e773f5d01",
   "metadata": {},
   "outputs": [],
   "source": [
    "conn = sqlite3.connect(\"autoloansdb.db\")\n",
    "cur = conn.cursor()"
   ]
  },
  {
   "cell_type": "code",
   "execution_count": 5,
   "id": "49241d9c-e2ae-474d-b370-05330ff07b87",
   "metadata": {},
   "outputs": [],
   "source": [
    "drop_table_jobs = conn.execute('DROP TABLE IF EXISTS jobs;')"
   ]
  },
  {
   "cell_type": "code",
   "execution_count": 6,
   "id": "cb1f2f02-668a-4d3e-b0eb-3378a120ddde",
   "metadata": {},
   "outputs": [],
   "source": [
    "create_jobs_table = conn.execute('''\n",
    "CREATE TABLE IF NOT EXISTS jobs\n",
    "\t(\n",
    "\t  occupation VARCHAR(50) NOT NULL, --Occupation of the application\n",
    "      salary INT NOT NULL --Monthly income of the applicant\n",
    "\t);\n",
    "''')"
   ]
  },
  {
   "cell_type": "code",
   "execution_count": 7,
   "id": "c1738358-66a0-4a3f-b215-ce18240583a9",
   "metadata": {},
   "outputs": [],
   "source": [
    "drop_table_credit = conn.execute('DROP TABLE IF EXISTS credit;')"
   ]
  },
  {
   "cell_type": "code",
   "execution_count": 8,
   "id": "b268810c-636c-4cd4-b7a4-7b6c67be2d59",
   "metadata": {},
   "outputs": [],
   "source": [
    "create_credit_table = conn.execute('''\n",
    "CREATE TABLE IF NOT EXISTS credit\n",
    "\t(\n",
    "\t  occupation VARCHAR(50), --Occupation of the application (foreign key)\n",
    "      credit_score INTEGER NOT NULL, --Credit Score of the applicant\n",
    "      FOREIGN KEY (occupation) REFERENCES jobs (occupation)\n",
    "\t);\n",
    "''')"
   ]
  },
  {
   "cell_type": "code",
   "execution_count": 9,
   "id": "7e619619-e8c5-4da5-be81-99e51ea28bf0",
   "metadata": {},
   "outputs": [],
   "source": [
    "drop_table_loan = conn.execute('DROP TABLE IF EXISTS loan;')"
   ]
  },
  {
   "cell_type": "code",
   "execution_count": 10,
   "id": "277d83bd-c3ca-4526-9a63-cbe3c77fe010",
   "metadata": {},
   "outputs": [],
   "source": [
    "create_loan_table = conn.execute('''\n",
    "CREATE TABLE IF NOT EXISTS loan\n",
    "\t(\n",
    "\t  loan_id VARCHAR(50) PRIMARY KEY, --ID of the loan (primary key)\n",
    "      occupation VARCHAR(50), --Occupation of the applicant (foreign key)\n",
    "      credit_score INTEGER, --Credit Score of the applicant (foreign key)\n",
    "      FOREIGN KEY (occupation) REFERENCES jobs (occupation),\n",
    "      FOREIGN KEY (credit_score) REFERENCES credit (credit_score)\n",
    "\t);\n",
    "''')"
   ]
  },
  {
   "cell_type": "code",
   "execution_count": 11,
   "id": "4d4f0682-43c8-4fee-bc45-4049c1ede07b",
   "metadata": {},
   "outputs": [],
   "source": [
    "drop_table_loan_status = conn.execute('DROP TABLE IF EXISTS loan_status;')"
   ]
  },
  {
   "cell_type": "code",
   "execution_count": 12,
   "id": "ca51cbb7-4abb-4ad7-84a7-7895829d72dd",
   "metadata": {},
   "outputs": [],
   "source": [
    "create_loan_status_table = conn.execute('''\n",
    "CREATE TABLE IF NOT EXISTS loan_status\n",
    "\t(\n",
    "\t  loan_id VARCHAR(50), --ID of the loan (foreign key)\n",
    "      loan_status VARCHAR(50) CHECK (loan_status = 'Y' OR loan_status = 'N'), --Status of the loan\n",
    "      credit_score INTEGER, --Credit Score of the applicant (foreign key)\n",
    "      FOREIGN KEY (loan_id) REFERENCES loan (loan_id)\n",
    "      FOREIGN KEY (credit_score) REFERENCES credit (credit_score)\n",
    "\t);\n",
    "''')"
   ]
  },
  {
   "cell_type": "code",
   "execution_count": 13,
   "id": "baf06fca-a607-4825-b7b2-347824a32d71",
   "metadata": {},
   "outputs": [],
   "source": [
    "drop_table_loan_term = conn.execute('DROP TABLE IF EXISTS loan_term;')"
   ]
  },
  {
   "cell_type": "code",
   "execution_count": 14,
   "id": "a49b714f-c822-4e85-9571-16887a2701c8",
   "metadata": {},
   "outputs": [],
   "source": [
    "create_loan_term_table = conn.execute('''\n",
    "CREATE TABLE IF NOT EXISTS loan_term\n",
    "\t(\n",
    "\t  loan_id VARCHAR(50), --ID of the loan (foreign key)\n",
    "      loan_term INTEGER, --Term of the loan in months \n",
    "      FOREIGN KEY (loan_id) REFERENCES loan_status (loan_id)\n",
    "\t);\n",
    "''')"
   ]
  },
  {
   "cell_type": "code",
   "execution_count": 15,
   "id": "9d424732-eed6-4041-9d60-1375d30089e6",
   "metadata": {},
   "outputs": [],
   "source": [
    "### Filling the tables with the data from the dataset"
   ]
  },
  {
   "cell_type": "code",
   "execution_count": 16,
   "id": "c7d7942c-3bef-46c7-9057-30d9a964e37a",
   "metadata": {},
   "outputs": [],
   "source": [
    "for row in df_auto.to_dict('records'):\n",
    "    cmd = ('''INSERT INTO jobs(occupation, salary)\\\n",
    "    VALUES ( :Occupation, :Monthly_Income) ''' )\n",
    "    conn.execute(cmd, row)"
   ]
  },
  {
   "cell_type": "code",
   "execution_count": 18,
   "id": "8d1c1394-1c2f-47dd-93fa-0c4feec01f05",
   "metadata": {},
   "outputs": [
    {
     "ename": "IntegrityError",
     "evalue": "NOT NULL constraint failed: credit.credit_score",
     "output_type": "error",
     "traceback": [
      "\u001b[0;31m---------------------------------------------------------------------------\u001b[0m",
      "\u001b[0;31mIntegrityError\u001b[0m                            Traceback (most recent call last)",
      "Cell \u001b[0;32mIn[18], line 4\u001b[0m\n\u001b[1;32m      1\u001b[0m \u001b[38;5;28;01mfor\u001b[39;00m row \u001b[38;5;129;01min\u001b[39;00m df_auto\u001b[38;5;241m.\u001b[39mto_dict(\u001b[38;5;124m'\u001b[39m\u001b[38;5;124mrecords\u001b[39m\u001b[38;5;124m'\u001b[39m):\n\u001b[1;32m      2\u001b[0m     cmd \u001b[38;5;241m=\u001b[39m (\u001b[38;5;124m'''\u001b[39m\u001b[38;5;124mINSERT INTO credit(credit_score, occupation)\u001b[39m\u001b[38;5;130;01m\\\u001b[39;00m\n\u001b[1;32m      3\u001b[0m \u001b[38;5;124m    VALUES ( :Credit_Score, :Occupation) \u001b[39m\u001b[38;5;124m'''\u001b[39m )\n\u001b[0;32m----> 4\u001b[0m     \u001b[43mconn\u001b[49m\u001b[38;5;241;43m.\u001b[39;49m\u001b[43mexecute\u001b[49m\u001b[43m(\u001b[49m\u001b[43mcmd\u001b[49m\u001b[43m,\u001b[49m\u001b[43m \u001b[49m\u001b[43mrow\u001b[49m\u001b[43m)\u001b[49m\n",
      "\u001b[0;31mIntegrityError\u001b[0m: NOT NULL constraint failed: credit.credit_score"
     ]
    }
   ],
   "source": [
    "for row in df_auto.to_dict('records'):\n",
    "    cmd = ('''INSERT INTO credit(credit_score, occupation)\\\n",
    "    VALUES ( :Credit_Score, :Occupation) ''' )\n",
    "    conn.execute(cmd, row)"
   ]
  },
  {
   "cell_type": "code",
   "execution_count": 180,
   "id": "1f14c509-1420-4027-91e3-2d3299cfdf15",
   "metadata": {},
   "outputs": [],
   "source": [
    "for row in df_auto.to_dict('records'):\n",
    "    cmd = ('''INSERT INTO loan(loan_id, occupation, credit_score)\\\n",
    "    VALUES ( :Loan_ID, :Occupation, :Credit_Score) ''' )\n",
    "    conn.execute(cmd, row)"
   ]
  },
  {
   "cell_type": "code",
   "execution_count": 194,
   "id": "01a9e70d-0f7c-45f7-9026-0bb5bf10c569",
   "metadata": {},
   "outputs": [],
   "source": [
    "for row in df_auto.to_dict('records'):\n",
    "    cmd = ('''INSERT INTO loan_status(loan_id, loan_status, credit_score)\\\n",
    "    VALUES ( :Loan_ID, :Loan_Status, :Credit_Score) ''' )\n",
    "    conn.execute(cmd, row)"
   ]
  },
  {
   "cell_type": "code",
   "execution_count": 182,
   "id": "31789b7f-754b-4d25-9e4a-08b4ebf4cb31",
   "metadata": {},
   "outputs": [],
   "source": [
    "for row in df_auto.to_dict('records'):\n",
    "    cmd = ('''INSERT INTO loan_term(loan_id, loan_term)\\\n",
    "    VALUES ( :Loan_ID, :Loan_Amount_Term) ''' )\n",
    "    conn.execute(cmd, row)"
   ]
  },
  {
   "cell_type": "code",
   "execution_count": null,
   "id": "063a4078-396a-4fd5-9859-98c2c62d6d8f",
   "metadata": {},
   "outputs": [],
   "source": [
    "# Queries to display the tables"
   ]
  },
  {
   "cell_type": "code",
   "execution_count": 1,
   "id": "b0aae63e-5c52-45cd-a093-bd0d78e9dd20",
   "metadata": {},
   "outputs": [
    {
     "ename": "NameError",
     "evalue": "name 'cur' is not defined",
     "output_type": "error",
     "traceback": [
      "\u001b[0;31m---------------------------------------------------------------------------\u001b[0m",
      "\u001b[0;31mNameError\u001b[0m                                 Traceback (most recent call last)",
      "Cell \u001b[0;32mIn[1], line 1\u001b[0m\n\u001b[0;32m----> 1\u001b[0m res \u001b[38;5;241m=\u001b[39m \u001b[43mcur\u001b[49m\u001b[38;5;241m.\u001b[39mexecute(\u001b[38;5;124m\"\u001b[39m\u001b[38;5;124mSELECT * FROM jobs LIMIT 10\u001b[39m\u001b[38;5;124m\"\u001b[39m)\n\u001b[1;32m      2\u001b[0m res\u001b[38;5;241m.\u001b[39mfetchall()\n",
      "\u001b[0;31mNameError\u001b[0m: name 'cur' is not defined"
     ]
    }
   ],
   "source": [
    "res = cur.execute(\"SELECT * FROM jobs LIMIT 10\")\n",
    "res.fetchall()"
   ]
  },
  {
   "cell_type": "code",
   "execution_count": 187,
   "id": "21a98b44-1958-4624-b7da-572f2edf3936",
   "metadata": {},
   "outputs": [
    {
     "data": {
      "text/plain": [
       "[('Teacher', 750), ('Engineer', 800)]"
      ]
     },
     "execution_count": 187,
     "metadata": {},
     "output_type": "execute_result"
    }
   ],
   "source": [
    "res = cur.execute(\"SELECT * FROM credit LIMIT 2\")\n",
    "res.fetchall()"
   ]
  },
  {
   "cell_type": "code",
   "execution_count": 189,
   "id": "396b60a4-188b-4d33-99ca-817a7111aa84",
   "metadata": {},
   "outputs": [
    {
     "data": {
      "text/plain": [
       "[('LP001002', 'Teacher', 750),\n",
       " ('LP001003', 'Engineer', 800),\n",
       " ('LP001005', 'Nurse', 650),\n",
       " ('LP001006', 'Doctor', 900),\n",
       " ('LP001008', 'Businessman', 700),\n",
       " ('LP001011', 'Engineer', 750),\n",
       " ('LP001013', 'Teacher', 650),\n",
       " ('LP001014', 'Nurse', 600),\n",
       " ('LP001018', 'Businessman', 850),\n",
       " ('LP001020', 'Doctor', 800)]"
      ]
     },
     "execution_count": 189,
     "metadata": {},
     "output_type": "execute_result"
    }
   ],
   "source": [
    "res = cur.execute(\"SELECT * FROM loan LIMIT 10\")\n",
    "res.fetchall()"
   ]
  },
  {
   "cell_type": "code",
   "execution_count": 195,
   "id": "3d9f94eb-426e-4b27-9a99-3192d649695c",
   "metadata": {},
   "outputs": [
    {
     "data": {
      "text/plain": [
       "[('LP001002', 'Y', 750),\n",
       " ('LP001003', 'Y', 800),\n",
       " ('LP001005', 'Y', 650),\n",
       " ('LP001006', 'Y', 900),\n",
       " ('LP001008', 'Y', 700),\n",
       " ('LP001011', 'Y', 750),\n",
       " ('LP001013', 'N', 650),\n",
       " ('LP001014', 'N', 600),\n",
       " ('LP001018', 'Y', 850),\n",
       " ('LP001020', 'N', 800)]"
      ]
     },
     "execution_count": 195,
     "metadata": {},
     "output_type": "execute_result"
    }
   ],
   "source": [
    "res = cur.execute(\"SELECT * FROM loan_status LIMIT 10\")\n",
    "res.fetchall()"
   ]
  },
  {
   "cell_type": "code",
   "execution_count": 190,
   "id": "e955e7f9-da37-4ccd-93ba-2ef338a9daad",
   "metadata": {},
   "outputs": [
    {
     "data": {
      "text/plain": [
       "[('LP001002', 36),\n",
       " ('LP001003', 36),\n",
       " ('LP001005', 36),\n",
       " ('LP001006', 36),\n",
       " ('LP001008', 36),\n",
       " ('LP001011', 36),\n",
       " ('LP001013', 0),\n",
       " ('LP001014', 0),\n",
       " ('LP001018', 36),\n",
       " ('LP001020', 0)]"
      ]
     },
     "execution_count": 190,
     "metadata": {},
     "output_type": "execute_result"
    }
   ],
   "source": [
    "res = cur.execute(\"SELECT * FROM loan_term LIMIT 10\")\n",
    "res.fetchall()"
   ]
  },
  {
   "cell_type": "code",
   "execution_count": 159,
   "id": "7cfa0bdd-8647-48ca-9340-1111fd5820a7",
   "metadata": {},
   "outputs": [
    {
     "data": {
      "text/plain": [
       "[(720, 'Account Executive', '$6,000.00 '),\n",
       " (720, 'Account Manager', '$5,800.00 '),\n",
       " (720, 'Accountant', '$4,500.00 '),\n",
       " (720, 'Accountant', '$5,000.00 '),\n",
       " (720, 'Accountant', '$5,000.00 '),\n",
       " (720, 'Accountant', '$5,500.00 '),\n",
       " (720, 'Accountant', '$6,500.00 '),\n",
       " (720, 'Accountant', '$6,500.00 '),\n",
       " (750, 'Accountant', '$4,500.00 '),\n",
       " (750, 'Accountant', '$5,000.00 '),\n",
       " (750, 'Accountant', '$5,000.00 '),\n",
       " (750, 'Accountant', '$5,500.00 '),\n",
       " (750, 'Accountant', '$6,500.00 '),\n",
       " (750, 'Accountant', '$6,500.00 '),\n",
       " (740, 'Accountant', '$4,500.00 '),\n",
       " (740, 'Accountant', '$5,000.00 '),\n",
       " (740, 'Accountant', '$5,000.00 '),\n",
       " (740, 'Accountant', '$5,500.00 '),\n",
       " (740, 'Accountant', '$6,500.00 '),\n",
       " (740, 'Accountant', '$6,500.00 '),\n",
       " (720, 'Accountant', '$4,500.00 '),\n",
       " (720, 'Accountant', '$5,000.00 '),\n",
       " (720, 'Accountant', '$5,000.00 '),\n",
       " (720, 'Accountant', '$5,500.00 '),\n",
       " (720, 'Accountant', '$6,500.00 ')]"
      ]
     },
     "execution_count": 159,
     "metadata": {},
     "output_type": "execute_result"
    }
   ],
   "source": [
    "res = cur.execute(\"SELECT credit_score, jobs.occupation, jobs.salary FROM credit JOIN jobs on jobs.occupation = credit.occupation ORDER BY jobs.occupation LIMIT 25\")\n",
    "res.fetchall()"
   ]
  },
  {
   "cell_type": "code",
   "execution_count": 26,
   "id": "823e7b57-4e3c-4a12-b2c0-602923f35325",
   "metadata": {},
   "outputs": [],
   "source": [
    "cur.close()"
   ]
  },
  {
   "cell_type": "code",
   "execution_count": null,
   "id": "74f332bb-3630-4b44-8427-4dcf1cef8d29",
   "metadata": {},
   "outputs": [],
   "source": []
  }
 ],
 "metadata": {
  "kernelspec": {
   "display_name": "Python 3 (ipykernel)",
   "language": "python",
   "name": "python3"
  },
  "language_info": {
   "codemirror_mode": {
    "name": "ipython",
    "version": 3
   },
   "file_extension": ".py",
   "mimetype": "text/x-python",
   "name": "python",
   "nbconvert_exporter": "python",
   "pygments_lexer": "ipython3",
   "version": "3.10.8"
  }
 },
 "nbformat": 4,
 "nbformat_minor": 5
}
