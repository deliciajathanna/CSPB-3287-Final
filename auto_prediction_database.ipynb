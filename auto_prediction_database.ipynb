{
 "cells": [
  {
   "cell_type": "markdown",
   "id": "31ba8ca5-6406-474c-9df4-efa846d64b09",
   "metadata": {},
   "source": [
    "# Auto Loan Prediction Dataset - Delicia Jathanna\n",
    "\n",
    "## CSCI 3287 "
   ]
  },
  {
   "cell_type": "code",
   "execution_count": null,
   "id": "53f59029-04a0-454c-8abe-a63ad9ac03dd",
   "metadata": {},
   "outputs": [],
   "source": [
    "import sqlite3\n",
    "import zipfile\n",
    "import pandas as pd"
   ]
  },
  {
   "cell_type": "markdown",
   "id": "da565d3a-23e6-42f5-9f53-a53bafba8334",
   "metadata": {},
   "source": [
    "## Connecting to my database & Creating the tables"
   ]
  },
  {
   "cell_type": "code",
   "execution_count": null,
   "id": "0a68d68c-0c5c-4d2e-a09f-23c4f159d7c2",
   "metadata": {},
   "outputs": [],
   "source": [
    "df_auto = pd.read_csv('auto_dataset.zip')"
   ]
  },
  {
   "cell_type": "code",
   "execution_count": null,
   "id": "dc63db0a-81c9-429d-b078-c74e773f5d01",
   "metadata": {},
   "outputs": [],
   "source": [
    "conn = sqlite3.connect(\"autoloansdb.db\")\n",
    "cur = conn.cursor()"
   ]
  },
  {
   "cell_type": "code",
   "execution_count": null,
   "id": "49241d9c-e2ae-474d-b370-05330ff07b87",
   "metadata": {},
   "outputs": [],
   "source": [
    "drop_table_jobs = conn.execute('DROP TABLE IF EXISTS jobs;')"
   ]
  },
  {
   "cell_type": "code",
   "execution_count": null,
   "id": "cb1f2f02-668a-4d3e-b0eb-3378a120ddde",
   "metadata": {},
   "outputs": [],
   "source": [
    "create_jobs_table = conn.execute('''\n",
    "CREATE TABLE IF NOT EXISTS jobs\n",
    "\t(\n",
    "\t  occupation VARCHAR(50) NOT NULL, --Occupation of the application\n",
    "      salary INT NOT NULL, --Monthly income of the applicant\n",
    "      credit_score INTEGER NOT NULL --Credit Score of the applicant\n",
    "\t);\n",
    "''')"
   ]
  },
  {
   "cell_type": "code",
   "execution_count": null,
   "id": "7e619619-e8c5-4da5-be81-99e51ea28bf0",
   "metadata": {},
   "outputs": [],
   "source": [
    "drop_table_loan = conn.execute('DROP TABLE IF EXISTS loan;')"
   ]
  },
  {
   "cell_type": "code",
   "execution_count": null,
   "id": "277d83bd-c3ca-4526-9a63-cbe3c77fe010",
   "metadata": {},
   "outputs": [],
   "source": [
    "create_loan_table = conn.execute('''\n",
    "CREATE TABLE IF NOT EXISTS loan\n",
    "\t(\n",
    "\t  loan_id VARCHAR(50) PRIMARY KEY, --ID of the loan (primary key)\n",
    "      occupation VARCHAR(50), --Occupation of the applicant (foreign key)\n",
    "      FOREIGN KEY (occupation) REFERENCES jobs (occupation)\n",
    "\t);\n",
    "''')"
   ]
  },
  {
   "cell_type": "code",
   "execution_count": null,
   "id": "4d4f0682-43c8-4fee-bc45-4049c1ede07b",
   "metadata": {},
   "outputs": [],
   "source": [
    "drop_table_loan_status = conn.execute('DROP TABLE IF EXISTS loan_status;')"
   ]
  },
  {
   "cell_type": "code",
   "execution_count": null,
   "id": "ca51cbb7-4abb-4ad7-84a7-7895829d72dd",
   "metadata": {},
   "outputs": [],
   "source": [
    "create_loan_status_table = conn.execute('''\n",
    "CREATE TABLE IF NOT EXISTS loan_status\n",
    "\t(\n",
    "\t  loan_id VARCHAR(50), --ID of the loan (foreign key)\n",
    "      loan_status VARCHAR(50) CHECK (loan_status = 'Y' OR loan_status = 'N'), --Status of the loan\n",
    "      credit_score INTEGER, --Credit Score of the applicant (foreign key)\n",
    "      FOREIGN KEY (loan_id) REFERENCES loan (loan_id)\n",
    "      FOREIGN KEY (credit_score) REFERENCES jobs (credit_score)\n",
    "\t);\n",
    "''')"
   ]
  },
  {
   "cell_type": "code",
   "execution_count": null,
   "id": "baf06fca-a607-4825-b7b2-347824a32d71",
   "metadata": {},
   "outputs": [],
   "source": [
    "drop_table_loan_term = conn.execute('DROP TABLE IF EXISTS loan_term;')"
   ]
  },
  {
   "cell_type": "code",
   "execution_count": null,
   "id": "a49b714f-c822-4e85-9571-16887a2701c8",
   "metadata": {},
   "outputs": [],
   "source": [
    "create_loan_term_table = conn.execute('''\n",
    "CREATE TABLE IF NOT EXISTS loan_term\n",
    "\t(\n",
    "\t  loan_id VARCHAR(50), --ID of the loan (foreign key)\n",
    "      loan_term INTEGER, --Term of the loan in months \n",
    "      FOREIGN KEY (loan_id) REFERENCES loan_status (loan_id) ON INSERT CASCADE\n",
    "\t);\n",
    "''')"
   ]
  },
  {
   "cell_type": "code",
   "execution_count": null,
   "id": "9d424732-eed6-4041-9d60-1375d30089e6",
   "metadata": {},
   "outputs": [],
   "source": [
    "### Filling the tables with the data from the dataset"
   ]
  },
  {
   "cell_type": "code",
   "execution_count": null,
   "id": "c7d7942c-3bef-46c7-9057-30d9a964e37a",
   "metadata": {},
   "outputs": [],
   "source": [
    "for row in df_auto.to_dict('records'):\n",
    "    cmd = ('''INSERT INTO jobs(occupation, salary, credit_score)\\\n",
    "    VALUES ( :Occupation, :Monthly_Income, :Credit_Score) ''' )\n",
    "    conn.execute(cmd, row)"
   ]
  },
  {
   "cell_type": "code",
   "execution_count": null,
   "id": "1f14c509-1420-4027-91e3-2d3299cfdf15",
   "metadata": {},
   "outputs": [],
   "source": [
    "for row in df_auto.to_dict('records'):\n",
    "    cmd = ('''INSERT INTO loan(loan_id, occupation)\\\n",
    "    VALUES ( :Loan_ID, :Occupation) ''' )\n",
    "    conn.execute(cmd, row)"
   ]
  },
  {
   "cell_type": "code",
   "execution_count": null,
   "id": "01a9e70d-0f7c-45f7-9026-0bb5bf10c569",
   "metadata": {},
   "outputs": [],
   "source": [
    "for row in df_auto.to_dict('records'):\n",
    "    cmd = ('''INSERT INTO loan_status(loan_id, loan_status, credit_score)\\\n",
    "    VALUES ( :Loan_ID, :Loan_Status, :Credit_Score) ''' )\n",
    "    conn.execute(cmd, row)"
   ]
  },
  {
   "cell_type": "code",
   "execution_count": null,
   "id": "31789b7f-754b-4d25-9e4a-08b4ebf4cb31",
   "metadata": {},
   "outputs": [],
   "source": [
    "for row in df_auto.to_dict('records'):\n",
    "    cmd = ('''INSERT INTO loan_term(loan_id, loan_term)\\\n",
    "    VALUES ( :Loan_ID, :Loan_Amount_Term) ''' )\n",
    "    conn.execute(cmd, row)"
   ]
  },
  {
   "cell_type": "markdown",
   "id": "fe1a74fb-95de-409f-940e-289c220c28cc",
   "metadata": {},
   "source": [
    "### Display the initial data in the tables"
   ]
  },
  {
   "cell_type": "code",
   "execution_count": null,
   "id": "b0aae63e-5c52-45cd-a093-bd0d78e9dd20",
   "metadata": {},
   "outputs": [],
   "source": [
    "res = cur.execute(\"SELECT * FROM jobs LIMIT 10\")\n",
    "res.fetchall()"
   ]
  },
  {
   "cell_type": "code",
   "execution_count": null,
   "id": "396b60a4-188b-4d33-99ca-817a7111aa84",
   "metadata": {},
   "outputs": [],
   "source": [
    "res = cur.execute(\"SELECT * FROM loan LIMIT 10\")\n",
    "res.fetchall()"
   ]
  },
  {
   "cell_type": "code",
   "execution_count": null,
   "id": "3d9f94eb-426e-4b27-9a99-3192d649695c",
   "metadata": {},
   "outputs": [],
   "source": [
    "res = cur.execute(\"SELECT * FROM loan_status LIMIT 10\")\n",
    "res.fetchall()"
   ]
  },
  {
   "cell_type": "code",
   "execution_count": null,
   "id": "e955e7f9-da37-4ccd-93ba-2ef338a9daad",
   "metadata": {},
   "outputs": [],
   "source": [
    "res = cur.execute(\"SELECT * FROM loan_term LIMIT 10\")\n",
    "res.fetchall()"
   ]
  },
  {
   "cell_type": "markdown",
   "id": "34432d18-9769-44ed-ae2b-8cd6958833bb",
   "metadata": {
    "tags": []
   },
   "source": [
    "# Index on loan_id"
   ]
  },
  {
   "cell_type": "code",
   "execution_count": null,
   "id": "4c90276d-cb07-4588-ac89-37f91bb97553",
   "metadata": {},
   "outputs": [],
   "source": [
    "drop_loan_id_index = conn.execute(\"DROP INDEX IF EXISTS loan_id_index\")"
   ]
  },
  {
   "cell_type": "code",
   "execution_count": null,
   "id": "8ce5c00e-b871-4be9-9c39-d9655830e83f",
   "metadata": {},
   "outputs": [],
   "source": [
    "loan_id_index = conn.execute(\"CREATE INDEX loan_id_index ON loan(loan_id)\")"
   ]
  },
  {
   "cell_type": "markdown",
   "id": "22a2c5c8-aa6b-44bb-91d2-6f8a06d3b9ae",
   "metadata": {
    "tags": []
   },
   "source": [
    "# Queries\n",
    "\n",
    "Now that we've added some indexes and triggers to ensure the dataset runs smoothly and meets the requirements, lets run some queries on them."
   ]
  },
  {
   "cell_type": "markdown",
   "id": "e65b8cc3-82fc-4e96-91a3-5212ad7b9c64",
   "metadata": {},
   "source": [
    "This first query will join all the ables together. This will take a subquery or using CTEs because not all of the tables have the same relationships. "
   ]
  },
  {
   "cell_type": "code",
   "execution_count": null,
   "id": "7cfa0bdd-8647-48ca-9340-1111fd5820a7",
   "metadata": {},
   "outputs": [],
   "source": [
    "all_table_join = cur.execute(\"\"\"\n",
    "    WITH \n",
    "    CTE1 AS (\n",
    "            SELECT loan_id AS Loan_ID, jobs.occupation AS occupation, jobs.salary AS Salary, jobs.credit_score AS [Credit Score]\n",
    "            FROM loan \n",
    "                JOIN jobs on jobs.occupation = loan.occupation\n",
    "            ),\n",
    "    CTE2 AS (\n",
    "            SELECT loan.loan_id, loan_status AS Status\n",
    "            FROM loan_status\n",
    "                JOIN loan on loan.loan_id = loan_status.loan_id\n",
    "            ),\n",
    "    CTE3 AS (\n",
    "            SELECT loan.loan_id, loan_term AS Term\n",
    "            FROM loan_term \n",
    "                JOIN loan on loan.loan_id = loan_term.loan_id\n",
    "            ) \n",
    "    SELECT CTE1.loan_id, Occupation, Salary, [Credit Score], CTE2.Status, CTE3.Term\n",
    "    FROM  CTE1\n",
    "          JOIN CTE2 ON CTE1.loan_id = CTE2.loan_id\n",
    "          JOIN CTE3 ON CTE1.loan_id = CTE3.loan_id\n",
    "    GROUP BY Occupation\n",
    "    ORDER BY Occupation\n",
    "    LIMIT 10;\n",
    "    \"\"\")\n",
    "\n",
    "all_table_join.fetchall()"
   ]
  },
  {
   "cell_type": "markdown",
   "id": "d0ee651f-be72-4e9e-a51b-3ad7bb16dd4c",
   "metadata": {},
   "source": [
    "##### Now lets run some requries that show what salary, credit score, and occupation are more favorable to be approved for an auto loan."
   ]
  },
  {
   "cell_type": "code",
   "execution_count": null,
   "id": "4d1acaa9-216f-470a-997f-9f2b514adc29",
   "metadata": {},
   "outputs": [],
   "source": [
    "favorable_options = cur.execute(\"\"\"\n",
    "    WITH \n",
    "    CTE1 AS (\n",
    "            SELECT loan_id AS Loan_ID, jobs.occupation AS occupation, jobs.salary AS Salary, jobs.credit_score AS [Credit Score]\n",
    "            FROM loan \n",
    "                JOIN jobs on jobs.occupation = loan.occupation\n",
    "            ),\n",
    "    CTE2 AS (\n",
    "            SELECT loan.loan_id, loan_status AS Status\n",
    "            FROM loan_status\n",
    "                JOIN loan on loan.loan_id = loan_status.loan_id\n",
    "            )\n",
    "    SELECT CTE1.loan_id, Occupation, Salary, [Credit Score], CTE2.Status \n",
    "    FROM  CTE1\n",
    "        JOIN CTE2 on CTE1.loan_id = CTE2.loan_id\n",
    "    WHERE Status = 'Y'\n",
    "    GROUP BY Occupation\n",
    "    ORDER BY [Credit Score] desc\n",
    "    LIMIT 10;\n",
    "    \"\"\")\n",
    "\n",
    "favorable_options.fetchall()"
   ]
  },
  {
   "cell_type": "markdown",
   "id": "49a1c3d9-5c52-4600-85d6-43d1297fc710",
   "metadata": {},
   "source": [
    "##### Now lets do the opposite"
   ]
  },
  {
   "cell_type": "code",
   "execution_count": null,
   "id": "41321772-ff37-470e-a854-3062eeecc114",
   "metadata": {},
   "outputs": [],
   "source": [
    "unfavorable_options = cur.execute(\"\"\"\n",
    "    WITH \n",
    "    CTE1 AS (\n",
    "            SELECT loan_id AS Loan_ID, jobs.occupation AS occupation, jobs.salary AS Salary, jobs.credit_score AS [Credit Score]\n",
    "            FROM loan \n",
    "                JOIN jobs on jobs.occupation = loan.occupation\n",
    "            ),\n",
    "    CTE2 AS (\n",
    "            SELECT loan.loan_id, loan_status AS Status\n",
    "            FROM loan_status\n",
    "                JOIN loan on loan.loan_id = loan_status.loan_id\n",
    "            )\n",
    "    SELECT CTE1.loan_id, Occupation, Salary, [Credit Score], CTE2.Status AS Status\n",
    "    FROM  CTE1\n",
    "    JOIN CTE2 on CTE1.loan_id = CTE2.loan_id\n",
    "    WHERE Status = 'N'\n",
    "    GROUP BY Occupation\n",
    "    ORDER BY [Credit Score] \n",
    "    LIMIT 10;\n",
    "    \"\"\")\n",
    "\n",
    "unfavorable_options.fetchall()"
   ]
  },
  {
   "cell_type": "markdown",
   "id": "45821784-7ca6-4099-9c72-cad07840c36c",
   "metadata": {},
   "source": [
    "# Triggers and Indexes\n",
    "We will now Add some triggers and indexes to the data so that the queries run smoother and we can ensure that when a foreign key gets deleted, it gets deleted in every table."
   ]
  },
  {
   "cell_type": "code",
   "execution_count": null,
   "id": "26af501f-67b6-4704-8143-499c073b667a",
   "metadata": {},
   "outputs": [],
   "source": [
    "drop_fk_occupation_trigger = conn.execute(\"DROP TRIGGER IF EXISTS fk_occupation_delete\")"
   ]
  },
  {
   "cell_type": "code",
   "execution_count": null,
   "id": "1eb17d5d-1cd7-4d5e-9edd-dd001ea38412",
   "metadata": {},
   "outputs": [],
   "source": [
    "fk_occupation_trigger = conn.execute('''\n",
    "    CREATE TRIGGER fk_occupation_delete\n",
    "    AFTER DELETE ON jobs \n",
    "    FOR EACH ROW\n",
    "    BEGIN\n",
    "        DELETE FROM loan\n",
    "        WHERE occupation = old.occupation;\n",
    "    END;\n",
    "    ''')"
   ]
  },
  {
   "cell_type": "code",
   "execution_count": null,
   "id": "e0f22b9b-51a2-430c-b8f3-cf10c1bbb025",
   "metadata": {},
   "outputs": [],
   "source": [
    "drop_fk_loanid_trigger = conn.execute(\"DROP TRIGGER IF EXISTS fk_loanid_delete\")"
   ]
  },
  {
   "cell_type": "code",
   "execution_count": null,
   "id": "da53c0e6-b8d7-444d-9e64-b8bc6bec2a43",
   "metadata": {},
   "outputs": [],
   "source": [
    "fk_loanid_trigger = conn.execute('''\n",
    "    CREATE TRIGGER fk_loanid_delete\n",
    "    AFTER DELETE ON loan \n",
    "    FOR EACH ROW\n",
    "    BEGIN\n",
    "        DELETE FROM loan_term\n",
    "        WHERE loan_id = old.loan_id;\n",
    "        DELETE FROM loan_status\n",
    "        WHERE loan_id = old.loan_id;\n",
    "    END;\n",
    "    ''')"
   ]
  },
  {
   "cell_type": "code",
   "execution_count": null,
   "id": "45800602-d324-4272-8886-83355c1a2aba",
   "metadata": {},
   "outputs": [],
   "source": [
    "drop_fk_score_trigger = conn.execute(\"DROP TRIGGER IF EXISTS fk_score_delete\")"
   ]
  },
  {
   "cell_type": "code",
   "execution_count": null,
   "id": "ec131951-6fa3-45fe-8690-87eb8b7b431d",
   "metadata": {},
   "outputs": [],
   "source": [
    "fk_score_trigger = conn.execute('''\n",
    "    CREATE TRIGGER fk_score_delete\n",
    "    AFTER DELETE ON jobs \n",
    "    FOR EACH ROW\n",
    "    BEGIN\n",
    "        DELETE FROM loan\n",
    "        WHERE credit_score = old.credit_score;\n",
    "        DELETE FROM loan_status\n",
    "        WHERE credit_score = old.credit_score;\n",
    "    END;\n",
    "    ''')"
   ]
  },
  {
   "cell_type": "markdown",
   "id": "5e311103-9a6f-454b-8bc4-60f6c4c0eecd",
   "metadata": {},
   "source": [
    "### Testing the occupation foreign key trigger"
   ]
  },
  {
   "cell_type": "code",
   "execution_count": null,
   "id": "e7dabcbf-92ca-4b74-b9ac-b8b4747bc6dc",
   "metadata": {},
   "outputs": [],
   "source": [
    "res = cur.execute(\"DELETE FROM jobs WHERE occupation = 'Teacher'\")"
   ]
  },
  {
   "cell_type": "code",
   "execution_count": null,
   "id": "fda5af58-e7e0-4093-a3d4-adeda9cf8596",
   "metadata": {},
   "outputs": [],
   "source": [
    "res = cur.execute(\"SELECT * FROM jobs LIMIT 10\")\n",
    "res.fetchall()"
   ]
  },
  {
   "cell_type": "code",
   "execution_count": null,
   "id": "dead9c49-6f55-4bd2-9f0a-07414b0fc476",
   "metadata": {},
   "outputs": [],
   "source": [
    "res = cur.execute(\"SELECT * FROM loan LIMIT 10\")\n",
    "res.fetchall()"
   ]
  },
  {
   "cell_type": "markdown",
   "id": "65e57211-8056-4e32-9718-02a88d80c3a4",
   "metadata": {},
   "source": [
    "### Testing the loan_id trigger"
   ]
  },
  {
   "cell_type": "code",
   "execution_count": null,
   "id": "ec5316d8-2cbe-4988-b042-5cac5dbbaf07",
   "metadata": {},
   "outputs": [],
   "source": [
    "res = cur.execute(\"DELETE FROM loan WHERE loan_id = 'LP001005'\")"
   ]
  },
  {
   "cell_type": "code",
   "execution_count": null,
   "id": "18bcb8ac-de5a-4d5f-aaf2-154cdfbed0a1",
   "metadata": {},
   "outputs": [],
   "source": [
    "res = cur.execute(\"SELECT * FROM loan LIMIT 10\")\n",
    "res.fetchall()"
   ]
  },
  {
   "cell_type": "code",
   "execution_count": null,
   "id": "52236da4-347f-4d0c-938c-910398093964",
   "metadata": {},
   "outputs": [],
   "source": [
    "res = cur.execute(\"SELECT * FROM loan_term LIMIT 10\")\n",
    "res.fetchall()"
   ]
  },
  {
   "cell_type": "code",
   "execution_count": null,
   "id": "734b532c-f4be-4a3f-8e1b-ad41862c0f19",
   "metadata": {},
   "outputs": [],
   "source": [
    "res = cur.execute(\"SELECT * FROM loan_status LIMIT 10\")\n",
    "res.fetchall()"
   ]
  },
  {
   "cell_type": "markdown",
   "id": "859c5abf-2b01-4d9e-a03a-db62e1ea5f37",
   "metadata": {},
   "source": [
    "### Testing the credit_score trigger"
   ]
  },
  {
   "cell_type": "code",
   "execution_count": null,
   "id": "6bd15f33-6eef-4921-b4c3-d937520e77bc",
   "metadata": {},
   "outputs": [],
   "source": [
    "res = cur.execute(\"DELETE FROM jobs WHERE credit_score < 675 \")"
   ]
  },
  {
   "cell_type": "code",
   "execution_count": null,
   "id": "4454c5a1-6435-4ca1-bfdf-0b87fbbc7d2e",
   "metadata": {},
   "outputs": [],
   "source": [
    "res = cur.execute(\"SELECT * FROM jobs LIMIT 10\")\n",
    "res.fetchall()"
   ]
  },
  {
   "cell_type": "code",
   "execution_count": null,
   "id": "9081c520-45ea-4fe9-8a59-b047ca1cb66e",
   "metadata": {},
   "outputs": [],
   "source": [
    "res = cur.execute(\"SELECT * FROM loan LIMIT 10\")\n",
    "res.fetchall()"
   ]
  },
  {
   "cell_type": "code",
   "execution_count": null,
   "id": "557b8c1b-15f6-4671-8060-822eea6be927",
   "metadata": {},
   "outputs": [],
   "source": [
    "res = cur.execute(\"SELECT * FROM loan_status LIMIT 10\")\n",
    "res.fetchall()"
   ]
  },
  {
   "cell_type": "markdown",
   "id": "59f881e1-c05c-480d-92f6-ae692a65c69a",
   "metadata": {},
   "source": [
    "Now that we've ensured that when a foreign key gets deleted, it deletes in every table, lets add a trigger to the loan status table that a loan cannot be approved if the credit score is below 675. "
   ]
  },
  {
   "cell_type": "code",
   "execution_count": null,
   "id": "2b5df258-0f36-48b6-82bd-9bba5ee17144",
   "metadata": {},
   "outputs": [],
   "source": [
    "drop_loan_status_trigger = conn.execute(\"DROP TRIGGER IF EXISTS loan_status_trigger\")"
   ]
  },
  {
   "cell_type": "code",
   "execution_count": null,
   "id": "f687eabe-4fbb-4d25-bbf5-1c45324a6ef0",
   "metadata": {},
   "outputs": [],
   "source": [
    "loan_status_trigger = conn.execute('''\n",
    "    CREATE TRIGGER loan_status_trigger\n",
    "    AFTER INSERT ON loan_status \n",
    "    FOR EACH ROW\n",
    "    BEGIN\n",
    "        SELECT CASE \n",
    "            WHEN ((SELECT loan_status FROM loan_status WHERE loan_status.loan_id = NEW.loan_id AND loan_status.credit_score < 675) = 'Y') \n",
    "            THEN RAISE(ABORT, 'Credit Score must be above 675 to be approved for a loan') \n",
    "        END;\n",
    "    END;\n",
    "    ''')"
   ]
  },
  {
   "cell_type": "code",
   "execution_count": null,
   "id": "16e81c94-d6e3-4c30-aa49-9e7b177a5545",
   "metadata": {},
   "outputs": [],
   "source": [
    "test_loan_status_trigger = conn.execute(\"INSERT INTO loan_status(loan_id, credit_score, loan_status) VALUES('LP002000', 650, 'Y')\")"
   ]
  },
  {
   "cell_type": "code",
   "execution_count": null,
   "id": "823e7b57-4e3c-4a12-b2c0-602923f35325",
   "metadata": {},
   "outputs": [],
   "source": [
    "cur.close()"
   ]
  }
 ],
 "metadata": {
  "kernelspec": {
   "display_name": "Python 3 (ipykernel)",
   "language": "python",
   "name": "python3"
  },
  "language_info": {
   "codemirror_mode": {
    "name": "ipython",
    "version": 3
   },
   "file_extension": ".py",
   "mimetype": "text/x-python",
   "name": "python",
   "nbconvert_exporter": "python",
   "pygments_lexer": "ipython3",
   "version": "3.10.8"
  }
 },
 "nbformat": 4,
 "nbformat_minor": 5
}
