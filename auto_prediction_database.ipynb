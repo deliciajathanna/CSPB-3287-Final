{
 "cells": [
  {
   "cell_type": "markdown",
   "id": "31ba8ca5-6406-474c-9df4-efa846d64b09",
   "metadata": {},
   "source": [
    "# Auto Loan Prediction Database - Delicia Jathanna\n",
    "\n",
    "## CSCI 3287 "
   ]
  },
  {
   "cell_type": "code",
   "execution_count": 2,
   "id": "53f59029-04a0-454c-8abe-a63ad9ac03dd",
   "metadata": {},
   "outputs": [],
   "source": [
    "import sqlite3\n",
    "import zipfile\n",
    "import pandas as pd"
   ]
  },
  {
   "cell_type": "markdown",
   "id": "da565d3a-23e6-42f5-9f53-a53bafba8334",
   "metadata": {},
   "source": [
    "## Connecting to my database & Creating the tables"
   ]
  },
  {
   "cell_type": "code",
   "execution_count": 3,
   "id": "0a68d68c-0c5c-4d2e-a09f-23c4f159d7c2",
   "metadata": {},
   "outputs": [],
   "source": [
    "df_auto = pd.read_csv('auto_dataset.zip')"
   ]
  },
  {
   "cell_type": "code",
   "execution_count": 4,
   "id": "dc63db0a-81c9-429d-b078-c74e773f5d01",
   "metadata": {},
   "outputs": [],
   "source": [
    "conn = sqlite3.connect(\"autoloansdb.db\")\n",
    "cur = conn.cursor()"
   ]
  },
  {
   "cell_type": "code",
   "execution_count": 5,
   "id": "49241d9c-e2ae-474d-b370-05330ff07b87",
   "metadata": {},
   "outputs": [],
   "source": [
    "drop_table_jobs = conn.execute('DROP TABLE IF EXISTS jobs;')"
   ]
  },
  {
   "cell_type": "code",
   "execution_count": 6,
   "id": "cb1f2f02-668a-4d3e-b0eb-3378a120ddde",
   "metadata": {},
   "outputs": [],
   "source": [
    "create_jobs_table = conn.execute('''\n",
    "CREATE TABLE IF NOT EXISTS jobs\n",
    "\t(\n",
    "\t  occupation VARCHAR(50) NOT NULL, --Occupation of the application\n",
    "      salary INT NOT NULL, --Monthly income of the applicant\n",
    "      credit_score INTEGER NOT NULL --Credit Score of the applicant\n",
    "\t);\n",
    "''')"
   ]
  },
  {
   "cell_type": "code",
   "execution_count": 7,
   "id": "7e619619-e8c5-4da5-be81-99e51ea28bf0",
   "metadata": {},
   "outputs": [],
   "source": [
    "drop_table_loan = conn.execute('DROP TABLE IF EXISTS loan;')"
   ]
  },
  {
   "cell_type": "code",
   "execution_count": 8,
   "id": "277d83bd-c3ca-4526-9a63-cbe3c77fe010",
   "metadata": {},
   "outputs": [],
   "source": [
    "create_loan_table = conn.execute('''\n",
    "CREATE TABLE IF NOT EXISTS loan\n",
    "\t(\n",
    "\t  loan_id VARCHAR(50) PRIMARY KEY, --ID of the loan (primary key)\n",
    "      occupation VARCHAR(50), --Occupation of the applicant (foreign key)\n",
    "      FOREIGN KEY (occupation) REFERENCES jobs (occupation)\n",
    "\t);\n",
    "''')"
   ]
  },
  {
   "cell_type": "code",
   "execution_count": 9,
   "id": "4d4f0682-43c8-4fee-bc45-4049c1ede07b",
   "metadata": {},
   "outputs": [],
   "source": [
    "drop_table_loan_status = conn.execute('DROP TABLE IF EXISTS loan_status;')"
   ]
  },
  {
   "cell_type": "code",
   "execution_count": 10,
   "id": "ca51cbb7-4abb-4ad7-84a7-7895829d72dd",
   "metadata": {},
   "outputs": [],
   "source": [
    "create_loan_status_table = conn.execute('''\n",
    "CREATE TABLE IF NOT EXISTS loan_status\n",
    "\t(\n",
    "\t  loan_id VARCHAR(50), --ID of the loan (foreign key)\n",
    "      loan_status VARCHAR(50) CHECK (loan_status = 'Y' OR loan_status = 'N'), --Status of the loan\n",
    "      credit_score INTEGER, --Credit Score of the applicant (foreign key)\n",
    "      FOREIGN KEY (loan_id) REFERENCES loan (loan_id)\n",
    "      FOREIGN KEY (credit_score) REFERENCES jobs (credit_score)\n",
    "\t);\n",
    "''')"
   ]
  },
  {
   "cell_type": "code",
   "execution_count": 11,
   "id": "baf06fca-a607-4825-b7b2-347824a32d71",
   "metadata": {},
   "outputs": [],
   "source": [
    "drop_table_loan_term = conn.execute('DROP TABLE IF EXISTS loan_term;')"
   ]
  },
  {
   "cell_type": "code",
   "execution_count": 12,
   "id": "a49b714f-c822-4e85-9571-16887a2701c8",
   "metadata": {},
   "outputs": [],
   "source": [
    "create_loan_term_table = conn.execute('''\n",
    "CREATE TABLE IF NOT EXISTS loan_term\n",
    "\t(\n",
    "\t  loan_id VARCHAR(50), --ID of the loan (foreign key)\n",
    "      loan_term INTEGER, --Term of the loan in months \n",
    "      FOREIGN KEY (loan_id) REFERENCES loan_status (loan_id) ON INSERT CASCADE\n",
    "\t);\n",
    "''')"
   ]
  },
  {
   "cell_type": "code",
   "execution_count": 13,
   "id": "9d424732-eed6-4041-9d60-1375d30089e6",
   "metadata": {},
   "outputs": [],
   "source": [
    "### Filling the tables with the data from the dataset"
   ]
  },
  {
   "cell_type": "code",
   "execution_count": 14,
   "id": "c7d7942c-3bef-46c7-9057-30d9a964e37a",
   "metadata": {},
   "outputs": [],
   "source": [
    "for row in df_auto.to_dict('records'):\n",
    "    cmd = ('''INSERT INTO jobs(occupation, salary, credit_score)\\\n",
    "    VALUES ( :Occupation, :Monthly_Income, :Credit_Score) ''' )\n",
    "    conn.execute(cmd, row)"
   ]
  },
  {
   "cell_type": "code",
   "execution_count": 15,
   "id": "1f14c509-1420-4027-91e3-2d3299cfdf15",
   "metadata": {},
   "outputs": [],
   "source": [
    "for row in df_auto.to_dict('records'):\n",
    "    cmd = ('''INSERT INTO loan(loan_id, occupation)\\\n",
    "    VALUES ( :Loan_ID, :Occupation) ''' )\n",
    "    conn.execute(cmd, row)"
   ]
  },
  {
   "cell_type": "code",
   "execution_count": 16,
   "id": "01a9e70d-0f7c-45f7-9026-0bb5bf10c569",
   "metadata": {},
   "outputs": [],
   "source": [
    "for row in df_auto.to_dict('records'):\n",
    "    cmd = ('''INSERT INTO loan_status(loan_id, loan_status, credit_score)\\\n",
    "    VALUES ( :Loan_ID, :Loan_Status, :Credit_Score) ''' )\n",
    "    conn.execute(cmd, row)"
   ]
  },
  {
   "cell_type": "code",
   "execution_count": 17,
   "id": "31789b7f-754b-4d25-9e4a-08b4ebf4cb31",
   "metadata": {},
   "outputs": [],
   "source": [
    "for row in df_auto.to_dict('records'):\n",
    "    cmd = ('''INSERT INTO loan_term(loan_id, loan_term)\\\n",
    "    VALUES ( :Loan_ID, :Loan_Amount_Term) ''' )\n",
    "    conn.execute(cmd, row)"
   ]
  },
  {
   "cell_type": "markdown",
   "id": "fe1a74fb-95de-409f-940e-289c220c28cc",
   "metadata": {},
   "source": [
    "### Display the initial data in the tables"
   ]
  },
  {
   "cell_type": "code",
   "execution_count": 18,
   "id": "b0aae63e-5c52-45cd-a093-bd0d78e9dd20",
   "metadata": {},
   "outputs": [
    {
     "data": {
      "text/plain": [
       "[('Teacher', 4000, 750),\n",
       " ('Engineer', 6000, 800),\n",
       " ('Nurse', 25000, 650),\n",
       " ('Doctor', 8000, 900),\n",
       " ('Businessman', 10000, 700),\n",
       " ('Engineer', 5000, 750),\n",
       " ('Teacher', 3500, 650),\n",
       " ('Nurse', 2000, 600),\n",
       " ('Businessman', 12000, 850),\n",
       " ('Doctor', 9000, 800)]"
      ]
     },
     "execution_count": 18,
     "metadata": {},
     "output_type": "execute_result"
    }
   ],
   "source": [
    "res = cur.execute(\"SELECT * FROM jobs LIMIT 10\")\n",
    "res.fetchall()"
   ]
  },
  {
   "cell_type": "code",
   "execution_count": 19,
   "id": "396b60a4-188b-4d33-99ca-817a7111aa84",
   "metadata": {},
   "outputs": [
    {
     "data": {
      "text/plain": [
       "[('LP001002', 'Teacher'),\n",
       " ('LP001003', 'Engineer'),\n",
       " ('LP001005', 'Nurse'),\n",
       " ('LP001006', 'Doctor'),\n",
       " ('LP001008', 'Businessman'),\n",
       " ('LP001011', 'Engineer'),\n",
       " ('LP001013', 'Teacher'),\n",
       " ('LP001014', 'Nurse'),\n",
       " ('LP001018', 'Businessman'),\n",
       " ('LP001020', 'Doctor')]"
      ]
     },
     "execution_count": 19,
     "metadata": {},
     "output_type": "execute_result"
    }
   ],
   "source": [
    "res = cur.execute(\"SELECT * FROM loan LIMIT 10\")\n",
    "res.fetchall()"
   ]
  },
  {
   "cell_type": "code",
   "execution_count": 20,
   "id": "3d9f94eb-426e-4b27-9a99-3192d649695c",
   "metadata": {},
   "outputs": [
    {
     "data": {
      "text/plain": [
       "[('LP001002', 'Y', 750),\n",
       " ('LP001003', 'Y', 800),\n",
       " ('LP001005', 'Y', 650),\n",
       " ('LP001006', 'Y', 900),\n",
       " ('LP001008', 'Y', 700),\n",
       " ('LP001011', 'Y', 750),\n",
       " ('LP001013', 'N', 650),\n",
       " ('LP001014', 'N', 600),\n",
       " ('LP001018', 'Y', 850),\n",
       " ('LP001020', 'Y', 800)]"
      ]
     },
     "execution_count": 20,
     "metadata": {},
     "output_type": "execute_result"
    }
   ],
   "source": [
    "res = cur.execute(\"SELECT * FROM loan_status LIMIT 10\")\n",
    "res.fetchall()"
   ]
  },
  {
   "cell_type": "code",
   "execution_count": 21,
   "id": "e955e7f9-da37-4ccd-93ba-2ef338a9daad",
   "metadata": {},
   "outputs": [
    {
     "data": {
      "text/plain": [
       "[('LP001002', 36),\n",
       " ('LP001003', 36),\n",
       " ('LP001005', 36),\n",
       " ('LP001006', 36),\n",
       " ('LP001008', 36),\n",
       " ('LP001011', 36),\n",
       " ('LP001013', 0),\n",
       " ('LP001014', 0),\n",
       " ('LP001018', 36),\n",
       " ('LP001020', 18)]"
      ]
     },
     "execution_count": 21,
     "metadata": {},
     "output_type": "execute_result"
    }
   ],
   "source": [
    "res = cur.execute(\"SELECT * FROM loan_term LIMIT 10\")\n",
    "res.fetchall()"
   ]
  },
  {
   "cell_type": "markdown",
   "id": "34432d18-9769-44ed-ae2b-8cd6958833bb",
   "metadata": {
    "tags": []
   },
   "source": [
    "# Index on loan_id"
   ]
  },
  {
   "cell_type": "code",
   "execution_count": 22,
   "id": "4c90276d-cb07-4588-ac89-37f91bb97553",
   "metadata": {},
   "outputs": [],
   "source": [
    "drop_loan_id_index = conn.execute(\"DROP INDEX IF EXISTS loan_id_index\")"
   ]
  },
  {
   "cell_type": "code",
   "execution_count": 23,
   "id": "8ce5c00e-b871-4be9-9c39-d9655830e83f",
   "metadata": {},
   "outputs": [],
   "source": [
    "loan_id_index = conn.execute(\"CREATE INDEX loan_id_index ON loan(loan_id)\")"
   ]
  },
  {
   "cell_type": "markdown",
   "id": "22a2c5c8-aa6b-44bb-91d2-6f8a06d3b9ae",
   "metadata": {
    "tags": []
   },
   "source": [
    "# Queries\n",
    "\n",
    "Now that we've added some indexes and triggers to ensure the dataset runs smoothly and meets the requirements, lets run some queries on them."
   ]
  },
  {
   "cell_type": "markdown",
   "id": "e65b8cc3-82fc-4e96-91a3-5212ad7b9c64",
   "metadata": {},
   "source": [
    "This first query will join all the ables together. This will take a subquery or using CTEs because not all of the tables have the same relationships. "
   ]
  },
  {
   "cell_type": "code",
   "execution_count": 24,
   "id": "7cfa0bdd-8647-48ca-9340-1111fd5820a7",
   "metadata": {},
   "outputs": [
    {
     "data": {
      "text/plain": [
       "[('LP001770', 'Account Executive', 6000, 720, 'Y', 24),\n",
       " ('LP001146', 'Account Manager', 5800, 720, 'Y', 36),\n",
       " ('LP001034', 'Accountant', 4500, 690, 'Y', 24),\n",
       " ('LP001043', 'Architect', 5500, 740, 'Y', 36),\n",
       " ('LP001784', 'Attorney', 1200, 800, 'Y', 36),\n",
       " ('LP001532', 'Automotive Mechanic', 3000, 640, 'N', 0),\n",
       " ('LP001579', 'Bank Teller', 2700, 610, 'N', 0),\n",
       " ('LP001405', 'Barista', 2000, 610, 'N', 0),\n",
       " ('LP001492', 'Bartender', 2500, 610, 'N', 0),\n",
       " ('LP001610', 'Business Analyst', 6500, 750, 'Y', 36)]"
      ]
     },
     "execution_count": 24,
     "metadata": {},
     "output_type": "execute_result"
    }
   ],
   "source": [
    "all_table_join = cur.execute(\"\"\"\n",
    "    WITH \n",
    "    CTE1 AS (\n",
    "            SELECT loan_id AS Loan_ID, jobs.occupation AS occupation, jobs.salary AS Salary, jobs.credit_score AS [Credit Score]\n",
    "            FROM loan \n",
    "                JOIN jobs on jobs.occupation = loan.occupation\n",
    "            ),\n",
    "    CTE2 AS (\n",
    "            SELECT loan.loan_id, loan_status AS Status\n",
    "            FROM loan_status\n",
    "                JOIN loan on loan.loan_id = loan_status.loan_id\n",
    "            ),\n",
    "    CTE3 AS (\n",
    "            SELECT loan.loan_id, loan_term AS Term\n",
    "            FROM loan_term \n",
    "                JOIN loan on loan.loan_id = loan_term.loan_id\n",
    "            ) \n",
    "    SELECT CTE1.loan_id, Occupation, Salary, [Credit Score], CTE2.Status, CTE3.Term\n",
    "    FROM  CTE1\n",
    "          JOIN CTE2 ON CTE1.loan_id = CTE2.loan_id\n",
    "          JOIN CTE3 ON CTE1.loan_id = CTE3.loan_id\n",
    "    GROUP BY Occupation\n",
    "    ORDER BY Occupation\n",
    "    LIMIT 10;\n",
    "    \"\"\")\n",
    "\n",
    "all_table_join.fetchall()"
   ]
  },
  {
   "cell_type": "markdown",
   "id": "d0ee651f-be72-4e9e-a51b-3ad7bb16dd4c",
   "metadata": {},
   "source": [
    "##### Now lets run some requries that show what salary, credit score, and occupation are more favorable to be approved for an auto loan."
   ]
  },
  {
   "cell_type": "code",
   "execution_count": 25,
   "id": "4d1acaa9-216f-470a-997f-9f2b514adc29",
   "metadata": {},
   "outputs": [
    {
     "data": {
      "text/plain": [
       "[('LP001006', 'Doctor', 8000, 900, 'Y'),\n",
       " ('LP001066', 'Pilot', 10000, 820, 'Y'),\n",
       " ('LP001325', 'Physician', 15000, 820, 'Y'),\n",
       " ('LP001379', 'Optometrist', 9000, 820, 'Y'),\n",
       " ('LP001030', 'Lawyer', 9000, 820, 'Y'),\n",
       " ('LP001280', 'Pharmacist', 10000, 810, 'Y'),\n",
       " ('LP001493', 'Physician Assistant', 7500, 800, 'Y'),\n",
       " ('LP001543', 'Financial Manager', 9000, 800, 'Y'),\n",
       " ('LP001029', 'Entrepreneur', 8000, 800, 'Y'),\n",
       " ('LP001404', 'Business Owner', 15000, 800, 'Y')]"
      ]
     },
     "execution_count": 25,
     "metadata": {},
     "output_type": "execute_result"
    }
   ],
   "source": [
    "favorable_options = cur.execute(\"\"\"\n",
    "    WITH \n",
    "    CTE1 AS (\n",
    "            SELECT loan_id AS Loan_ID, jobs.occupation AS occupation, jobs.salary AS Salary, jobs.credit_score AS [Credit Score]\n",
    "            FROM loan \n",
    "                JOIN jobs on jobs.occupation = loan.occupation\n",
    "            ),\n",
    "    CTE2 AS (\n",
    "            SELECT loan.loan_id, loan_status AS Status\n",
    "            FROM loan_status\n",
    "                JOIN loan on loan.loan_id = loan_status.loan_id\n",
    "            )\n",
    "    SELECT CTE1.loan_id, Occupation, Salary, [Credit Score], CTE2.Status \n",
    "    FROM  CTE1\n",
    "        JOIN CTE2 on CTE1.loan_id = CTE2.loan_id\n",
    "    WHERE Status = 'Y'\n",
    "    GROUP BY Occupation\n",
    "    ORDER BY [Credit Score] desc\n",
    "    LIMIT 10;\n",
    "    \"\"\")\n",
    "\n",
    "favorable_options.fetchall()"
   ]
  },
  {
   "cell_type": "markdown",
   "id": "49a1c3d9-5c52-4600-85d6-43d1297fc710",
   "metadata": {},
   "source": [
    "##### Now lets do the opposite"
   ]
  },
  {
   "cell_type": "code",
   "execution_count": 26,
   "id": "41321772-ff37-470e-a854-3062eeecc114",
   "metadata": {},
   "outputs": [
    {
     "data": {
      "text/plain": [
       "[('LP001073', 'Writer', 2000, 500, 'N'),\n",
       " ('LP001041', 'Electrician', 2500, 550, 'N'),\n",
       " ('LP001086', 'Musician', 2500, 550, 'N'),\n",
       " ('LP001439', 'Waiter/Waitress', 1500, 560, 'N'),\n",
       " ('LP001391', 'Dental Assistant', 2500, 590, 'N'),\n",
       " ('LP001516', 'Retail Salesperson', 2000, 590, 'N'),\n",
       " ('LP001131', 'Construction Worker', 2500, 600, 'N'),\n",
       " ('LP001195', 'Customer Service', 2500, 600, 'N'),\n",
       " ('LP001465', 'Hair Stylist', 2000, 600, 'N'),\n",
       " ('LP001109', 'Mechanic', 2500, 600, 'N')]"
      ]
     },
     "execution_count": 26,
     "metadata": {},
     "output_type": "execute_result"
    }
   ],
   "source": [
    "unfavorable_options = cur.execute(\"\"\"\n",
    "    WITH \n",
    "    CTE1 AS (\n",
    "            SELECT loan_id AS Loan_ID, jobs.occupation AS occupation, jobs.salary AS Salary, jobs.credit_score AS [Credit Score]\n",
    "            FROM loan \n",
    "                JOIN jobs on jobs.occupation = loan.occupation\n",
    "            ),\n",
    "    CTE2 AS (\n",
    "            SELECT loan.loan_id, loan_status AS Status\n",
    "            FROM loan_status\n",
    "                JOIN loan on loan.loan_id = loan_status.loan_id\n",
    "            )\n",
    "    SELECT CTE1.loan_id, Occupation, Salary, [Credit Score], CTE2.Status AS Status\n",
    "    FROM  CTE1\n",
    "    JOIN CTE2 on CTE1.loan_id = CTE2.loan_id\n",
    "    WHERE Status = 'N'\n",
    "    GROUP BY Occupation\n",
    "    ORDER BY [Credit Score] \n",
    "    LIMIT 10;\n",
    "    \"\"\")\n",
    "\n",
    "unfavorable_options.fetchall()"
   ]
  },
  {
   "cell_type": "markdown",
   "id": "45821784-7ca6-4099-9c72-cad07840c36c",
   "metadata": {},
   "source": [
    "# Triggers and Indexes\n",
    "We will now Add some triggers and indexes to the data so that the queries run smoother and we can ensure that when a foreign key gets deleted, it gets deleted in every table."
   ]
  },
  {
   "cell_type": "code",
   "execution_count": 27,
   "id": "26af501f-67b6-4704-8143-499c073b667a",
   "metadata": {},
   "outputs": [],
   "source": [
    "drop_fk_occupation_trigger = conn.execute(\"DROP TRIGGER IF EXISTS fk_occupation_delete\")"
   ]
  },
  {
   "cell_type": "code",
   "execution_count": 28,
   "id": "1eb17d5d-1cd7-4d5e-9edd-dd001ea38412",
   "metadata": {},
   "outputs": [],
   "source": [
    "fk_occupation_trigger = conn.execute('''\n",
    "    CREATE TRIGGER fk_occupation_delete\n",
    "    AFTER DELETE ON jobs \n",
    "    FOR EACH ROW\n",
    "    BEGIN\n",
    "        DELETE FROM loan\n",
    "        WHERE occupation = old.occupation;\n",
    "    END;\n",
    "    ''')"
   ]
  },
  {
   "cell_type": "code",
   "execution_count": 29,
   "id": "e0f22b9b-51a2-430c-b8f3-cf10c1bbb025",
   "metadata": {},
   "outputs": [],
   "source": [
    "drop_fk_loanid_trigger = conn.execute(\"DROP TRIGGER IF EXISTS fk_loanid_delete\")"
   ]
  },
  {
   "cell_type": "code",
   "execution_count": 30,
   "id": "da53c0e6-b8d7-444d-9e64-b8bc6bec2a43",
   "metadata": {},
   "outputs": [],
   "source": [
    "fk_loanid_trigger = conn.execute('''\n",
    "    CREATE TRIGGER fk_loanid_delete\n",
    "    AFTER DELETE ON loan \n",
    "    FOR EACH ROW\n",
    "    BEGIN\n",
    "        DELETE FROM loan_term\n",
    "        WHERE loan_id = old.loan_id;\n",
    "        DELETE FROM loan_status\n",
    "        WHERE loan_id = old.loan_id;\n",
    "    END;\n",
    "    ''')"
   ]
  },
  {
   "cell_type": "code",
   "execution_count": 31,
   "id": "45800602-d324-4272-8886-83355c1a2aba",
   "metadata": {},
   "outputs": [],
   "source": [
    "drop_fk_score_trigger = conn.execute(\"DROP TRIGGER IF EXISTS fk_score_delete\")"
   ]
  },
  {
   "cell_type": "code",
   "execution_count": 32,
   "id": "ec131951-6fa3-45fe-8690-87eb8b7b431d",
   "metadata": {},
   "outputs": [],
   "source": [
    "fk_score_trigger = conn.execute('''\n",
    "    CREATE TRIGGER fk_score_delete\n",
    "    AFTER DELETE ON jobs \n",
    "    FOR EACH ROW\n",
    "    BEGIN\n",
    "        DELETE FROM loan_status\n",
    "        WHERE credit_score = old.credit_score;\n",
    "    END;\n",
    "    ''')"
   ]
  },
  {
   "cell_type": "markdown",
   "id": "5e311103-9a6f-454b-8bc4-60f6c4c0eecd",
   "metadata": {},
   "source": [
    "### Testing the occupation foreign key trigger"
   ]
  },
  {
   "cell_type": "code",
   "execution_count": 33,
   "id": "e7dabcbf-92ca-4b74-b9ac-b8b4747bc6dc",
   "metadata": {},
   "outputs": [],
   "source": [
    "res = cur.execute(\"DELETE FROM jobs WHERE occupation = 'Teacher'\")"
   ]
  },
  {
   "cell_type": "code",
   "execution_count": 34,
   "id": "fda5af58-e7e0-4093-a3d4-adeda9cf8596",
   "metadata": {},
   "outputs": [
    {
     "data": {
      "text/plain": [
       "[('Engineer', 6000, 800),\n",
       " ('Nurse', 25000, 650),\n",
       " ('Doctor', 8000, 900),\n",
       " ('Businessman', 10000, 700),\n",
       " ('Engineer', 5000, 750),\n",
       " ('Nurse', 2000, 600),\n",
       " ('Businessman', 12000, 850),\n",
       " ('Doctor', 9000, 800),\n",
       " ('Engineer', 6000, 700),\n",
       " ('Salesperson', 3000, 600)]"
      ]
     },
     "execution_count": 34,
     "metadata": {},
     "output_type": "execute_result"
    }
   ],
   "source": [
    "res = cur.execute(\"SELECT * FROM jobs LIMIT 10\")\n",
    "res.fetchall()"
   ]
  },
  {
   "cell_type": "code",
   "execution_count": 35,
   "id": "dead9c49-6f55-4bd2-9f0a-07414b0fc476",
   "metadata": {},
   "outputs": [
    {
     "data": {
      "text/plain": [
       "[('LP001003', 'Engineer'),\n",
       " ('LP001005', 'Nurse'),\n",
       " ('LP001006', 'Doctor'),\n",
       " ('LP001008', 'Businessman'),\n",
       " ('LP001011', 'Engineer'),\n",
       " ('LP001014', 'Nurse'),\n",
       " ('LP001018', 'Businessman'),\n",
       " ('LP001020', 'Doctor'),\n",
       " ('LP001024', 'Engineer'),\n",
       " ('LP001027', 'Salesperson')]"
      ]
     },
     "execution_count": 35,
     "metadata": {},
     "output_type": "execute_result"
    }
   ],
   "source": [
    "res = cur.execute(\"SELECT * FROM loan LIMIT 10\")\n",
    "res.fetchall()"
   ]
  },
  {
   "cell_type": "markdown",
   "id": "65e57211-8056-4e32-9718-02a88d80c3a4",
   "metadata": {},
   "source": [
    "### Testing the loan_id trigger"
   ]
  },
  {
   "cell_type": "code",
   "execution_count": 36,
   "id": "ec5316d8-2cbe-4988-b042-5cac5dbbaf07",
   "metadata": {},
   "outputs": [],
   "source": [
    "res = cur.execute(\"DELETE FROM loan WHERE loan_id = 'LP001005'\")"
   ]
  },
  {
   "cell_type": "code",
   "execution_count": 37,
   "id": "18bcb8ac-de5a-4d5f-aaf2-154cdfbed0a1",
   "metadata": {},
   "outputs": [
    {
     "data": {
      "text/plain": [
       "[('LP001003', 'Engineer'),\n",
       " ('LP001006', 'Doctor'),\n",
       " ('LP001008', 'Businessman'),\n",
       " ('LP001011', 'Engineer'),\n",
       " ('LP001014', 'Nurse'),\n",
       " ('LP001018', 'Businessman'),\n",
       " ('LP001020', 'Doctor'),\n",
       " ('LP001024', 'Engineer'),\n",
       " ('LP001027', 'Salesperson'),\n",
       " ('LP001029', 'Entrepreneur')]"
      ]
     },
     "execution_count": 37,
     "metadata": {},
     "output_type": "execute_result"
    }
   ],
   "source": [
    "res = cur.execute(\"SELECT * FROM loan LIMIT 10\")\n",
    "res.fetchall()"
   ]
  },
  {
   "cell_type": "code",
   "execution_count": 38,
   "id": "52236da4-347f-4d0c-938c-910398093964",
   "metadata": {},
   "outputs": [
    {
     "data": {
      "text/plain": [
       "[('LP001003', 36),\n",
       " ('LP001006', 36),\n",
       " ('LP001008', 36),\n",
       " ('LP001011', 36),\n",
       " ('LP001014', 0),\n",
       " ('LP001018', 36),\n",
       " ('LP001020', 18),\n",
       " ('LP001024', 36),\n",
       " ('LP001027', 0),\n",
       " ('LP001029', 36)]"
      ]
     },
     "execution_count": 38,
     "metadata": {},
     "output_type": "execute_result"
    }
   ],
   "source": [
    "res = cur.execute(\"SELECT * FROM loan_term LIMIT 10\")\n",
    "res.fetchall()"
   ]
  },
  {
   "cell_type": "code",
   "execution_count": 39,
   "id": "734b532c-f4be-4a3f-8e1b-ad41862c0f19",
   "metadata": {},
   "outputs": [
    {
     "data": {
      "text/plain": [
       "[('LP001003', 'Y', 800),\n",
       " ('LP001006', 'Y', 900),\n",
       " ('LP001008', 'Y', 700),\n",
       " ('LP001014', 'N', 600),\n",
       " ('LP001018', 'Y', 850),\n",
       " ('LP001020', 'Y', 800),\n",
       " ('LP001024', 'Y', 700),\n",
       " ('LP001027', 'N', 600),\n",
       " ('LP001029', 'Y', 800),\n",
       " ('LP001030', 'Y', 820)]"
      ]
     },
     "execution_count": 39,
     "metadata": {},
     "output_type": "execute_result"
    }
   ],
   "source": [
    "res = cur.execute(\"SELECT * FROM loan_status LIMIT 10\")\n",
    "res.fetchall()"
   ]
  },
  {
   "cell_type": "markdown",
   "id": "859c5abf-2b01-4d9e-a03a-db62e1ea5f37",
   "metadata": {},
   "source": [
    "### Testing the credit_score trigger"
   ]
  },
  {
   "cell_type": "code",
   "execution_count": 40,
   "id": "6bd15f33-6eef-4921-b4c3-d937520e77bc",
   "metadata": {},
   "outputs": [],
   "source": [
    "res = cur.execute(\"DELETE FROM jobs WHERE credit_score <= 700 \")"
   ]
  },
  {
   "cell_type": "code",
   "execution_count": 41,
   "id": "4454c5a1-6435-4ca1-bfdf-0b87fbbc7d2e",
   "metadata": {},
   "outputs": [
    {
     "data": {
      "text/plain": [
       "[('Engineer', 6000, 800),\n",
       " ('Doctor', 8000, 900),\n",
       " ('Engineer', 5000, 750),\n",
       " ('Businessman', 12000, 850),\n",
       " ('Doctor', 9000, 800),\n",
       " ('Entrepreneur', 8000, 800),\n",
       " ('Lawyer', 9000, 820),\n",
       " ('Doctor', 12000, 900),\n",
       " ('Accountant', 5000, 720),\n",
       " ('Software Dev', 7000, 780)]"
      ]
     },
     "execution_count": 41,
     "metadata": {},
     "output_type": "execute_result"
    }
   ],
   "source": [
    "res = cur.execute(\"SELECT * FROM jobs LIMIT 10\")\n",
    "res.fetchall()"
   ]
  },
  {
   "cell_type": "code",
   "execution_count": 42,
   "id": "9081c520-45ea-4fe9-8a59-b047ca1cb66e",
   "metadata": {},
   "outputs": [
    {
     "data": {
      "text/plain": [
       "[('LP001006', 'Doctor'),\n",
       " ('LP001020', 'Doctor'),\n",
       " ('LP001029', 'Entrepreneur'),\n",
       " ('LP001030', 'Lawyer'),\n",
       " ('LP001032', 'Doctor'),\n",
       " ('LP001036', 'Software Dev'),\n",
       " ('LP001043', 'Architect'),\n",
       " ('LP001052', 'Real Estate Ag'),\n",
       " ('LP001066', 'Pilot'),\n",
       " ('LP001091', 'Software Developer')]"
      ]
     },
     "execution_count": 42,
     "metadata": {},
     "output_type": "execute_result"
    }
   ],
   "source": [
    "res = cur.execute(\"SELECT * FROM loan LIMIT 10\")\n",
    "res.fetchall()"
   ]
  },
  {
   "cell_type": "code",
   "execution_count": 43,
   "id": "557b8c1b-15f6-4671-8060-822eea6be927",
   "metadata": {},
   "outputs": [
    {
     "data": {
      "text/plain": [
       "[('LP001006', 'Y', 900),\n",
       " ('LP001020', 'Y', 800),\n",
       " ('LP001029', 'Y', 800),\n",
       " ('LP001030', 'Y', 820),\n",
       " ('LP001032', 'Y', 900),\n",
       " ('LP001036', 'Y', 780),\n",
       " ('LP001043', 'Y', 740),\n",
       " ('LP001052', 'Y', 760),\n",
       " ('LP001066', 'Y', 820),\n",
       " ('LP001091', 'Y', 800)]"
      ]
     },
     "execution_count": 43,
     "metadata": {},
     "output_type": "execute_result"
    }
   ],
   "source": [
    "res = cur.execute(\"SELECT * FROM loan_status LIMIT 10\")\n",
    "res.fetchall()"
   ]
  },
  {
   "cell_type": "markdown",
   "id": "59f881e1-c05c-480d-92f6-ae692a65c69a",
   "metadata": {},
   "source": [
    "Now that we've ensured that when a foreign key gets deleted, it deletes in every table, lets add a trigger to the loan status table that a loan cannot be approved if the credit score is below 675. "
   ]
  },
  {
   "cell_type": "code",
   "execution_count": 44,
   "id": "2b5df258-0f36-48b6-82bd-9bba5ee17144",
   "metadata": {},
   "outputs": [],
   "source": [
    "drop_loan_status_trigger = conn.execute(\"DROP TRIGGER IF EXISTS loan_status_trigger\")"
   ]
  },
  {
   "cell_type": "code",
   "execution_count": 45,
   "id": "f687eabe-4fbb-4d25-bbf5-1c45324a6ef0",
   "metadata": {},
   "outputs": [],
   "source": [
    "loan_status_trigger = conn.execute('''\n",
    "    CREATE TRIGGER loan_status_trigger\n",
    "    AFTER INSERT ON loan_status \n",
    "    FOR EACH ROW\n",
    "    BEGIN\n",
    "        SELECT CASE \n",
    "            WHEN ((SELECT loan_status FROM loan_status WHERE loan_status.loan_id = NEW.loan_id AND loan_status.credit_score < 675) = 'Y') \n",
    "            THEN RAISE(ABORT, 'Credit Score must be above 675 to be approved for a loan') \n",
    "        END;\n",
    "    END;\n",
    "    ''')"
   ]
  },
  {
   "cell_type": "code",
   "execution_count": 46,
   "id": "16e81c94-d6e3-4c30-aa49-9e7b177a5545",
   "metadata": {},
   "outputs": [
    {
     "ename": "IntegrityError",
     "evalue": "Credit Score must be above 675 to be approved for a loan",
     "output_type": "error",
     "traceback": [
      "\u001b[0;31m---------------------------------------------------------------------------\u001b[0m",
      "\u001b[0;31mIntegrityError\u001b[0m                            Traceback (most recent call last)",
      "Cell \u001b[0;32mIn[46], line 1\u001b[0m\n\u001b[0;32m----> 1\u001b[0m test_loan_status_trigger \u001b[38;5;241m=\u001b[39m \u001b[43mconn\u001b[49m\u001b[38;5;241;43m.\u001b[39;49m\u001b[43mexecute\u001b[49m\u001b[43m(\u001b[49m\u001b[38;5;124;43m\"\u001b[39;49m\u001b[38;5;124;43mINSERT INTO loan_status(loan_id, credit_score, loan_status) VALUES(\u001b[39;49m\u001b[38;5;124;43m'\u001b[39;49m\u001b[38;5;124;43mLP002000\u001b[39;49m\u001b[38;5;124;43m'\u001b[39;49m\u001b[38;5;124;43m, 650, \u001b[39;49m\u001b[38;5;124;43m'\u001b[39;49m\u001b[38;5;124;43mY\u001b[39;49m\u001b[38;5;124;43m'\u001b[39;49m\u001b[38;5;124;43m)\u001b[39;49m\u001b[38;5;124;43m\"\u001b[39;49m\u001b[43m)\u001b[49m\n",
      "\u001b[0;31mIntegrityError\u001b[0m: Credit Score must be above 675 to be approved for a loan"
     ]
    }
   ],
   "source": [
    "test_loan_status_trigger = conn.execute(\"INSERT INTO loan_status(loan_id, credit_score, loan_status) VALUES('LP002000', 650, 'Y')\")"
   ]
  },
  {
   "cell_type": "code",
   "execution_count": 47,
   "id": "823e7b57-4e3c-4a12-b2c0-602923f35325",
   "metadata": {},
   "outputs": [],
   "source": [
    "cur.close()"
   ]
  },
  {
   "cell_type": "code",
   "execution_count": null,
   "id": "afbaaba3-b5ac-4921-912a-7c808a6b6f3e",
   "metadata": {},
   "outputs": [],
   "source": []
  }
 ],
 "metadata": {
  "kernelspec": {
   "display_name": "Python 3 (ipykernel)",
   "language": "python",
   "name": "python3"
  },
  "language_info": {
   "codemirror_mode": {
    "name": "ipython",
    "version": 3
   },
   "file_extension": ".py",
   "mimetype": "text/x-python",
   "name": "python",
   "nbconvert_exporter": "python",
   "pygments_lexer": "ipython3",
   "version": "3.10.8"
  }
 },
 "nbformat": 4,
 "nbformat_minor": 5
}
